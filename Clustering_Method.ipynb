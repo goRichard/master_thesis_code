{
 "cells": [
  {
   "cell_type": "markdown",
   "metadata": {},
   "source": [
    "# Clustering Algorithm Test"
   ]
  },
  {
   "cell_type": "code",
   "execution_count": 1,
   "metadata": {},
   "outputs": [],
   "source": [
    "%matplotlib inline\n",
    "import wntr\n",
    "import pandas as pd\n",
    "import numpy as np\n",
    "import math\n",
    "import matplotlib\n",
    "import matplotlib.pyplot as plt \n",
    "from tqdm import *\n",
    "import pandas as pd\n",
    "import functools\n",
    "import itertools\n",
    "\n",
    "from sklearn.neighbors import NearestNeighbors\n",
    "import scipy.spatial\n",
    "from sklearn.preprocessing import *\n",
    "from sklearn.decomposition import PCA\n",
    "from sklearn.cluster import KMeans\n",
    "from sklearn.cluster import AgglomerativeClustering, FeatureAgglomeration\n",
    "from sklearn.cluster import DBSCAN\n",
    "from sklearn.cluster import SpectralClustering\n",
    "from sklearn.cluster import OPTICS\n",
    "from sklearn.mixture import GaussianMixture\n",
    "from skfuzzy.cluster import cmeans\n",
    "import skfuzzy.cluster.feature_learning as WFCM\n",
    "from sklearn.metrics.cluster import calinski_harabasz_score\n",
    "from sklearn.metrics.cluster import davies_bouldin_score\n",
    "from sklearn.metrics.cluster import silhouette_score\n",
    "from sklearn.metrics import pairwise_distances\n",
    "\n",
    "from yellowbrick.cluster import SilhouetteVisualizer\n",
    "from yellowbrick.cluster import KElbowVisualizer\n",
    "import os\n",
    "import sys\n",
    "sys.path.append(\".../master_thesis_code/\")\n",
    "\n",
    "from WaterNetWorkBasics import WaterNetWorkBasics as wnb"
   ]
  },
  {
   "cell_type": "markdown",
   "metadata": {},
   "source": [
    "# Get C-Town Information"
   ]
  },
  {
   "cell_type": "markdown",
   "metadata": {},
   "source": [
    "We load the .inp file within the user defined class testWN and populate:\n",
    "\n",
    "WaterNetWorkBasics.wn = wntr.network.WaterNetworkModel(self.__filePath)\n",
    "\n",
    "The class adds some convenience methods or properties that act directly on the network, such as:\n",
    "\n",
    "ctown.name_list = {\"node_name_list\":[...], \"link_name_list\":[...], \"control_name_list\": [...], \"pattern_name_list\": [...] }\n",
    "\n",
    "These names are used throughout this script."
   ]
  },
  {
   "cell_type": "code",
   "execution_count": 2,
   "metadata": {},
   "outputs": [],
   "source": [
    "ctown = wnb(\"c-town_true_network.inp\", \"c_town\")"
   ]
  },
  {
   "cell_type": "code",
   "execution_count": 3,
   "metadata": {},
   "outputs": [],
   "source": [
    "# get node names\n",
    "node_names_all = ctown.wn.node_name_list"
   ]
  },
  {
   "cell_type": "code",
   "execution_count": 4,
   "metadata": {},
   "outputs": [],
   "source": [
    "# junction name\n",
    "junction_names = np.array(ctown.name_list[\"node_name_list\"][\"junction_names\"])"
   ]
  },
  {
   "cell_type": "code",
   "execution_count": 5,
   "metadata": {},
   "outputs": [],
   "source": [
    "# number of junctions\n",
    "n_junctions = junction_names.shape[0]"
   ]
  },
  {
   "cell_type": "code",
   "execution_count": 6,
   "metadata": {},
   "outputs": [],
   "source": [
    "# valve names\n",
    "valve_names = np.array(ctown.name_list[\"link_name_list\"][\"valve_names\"])"
   ]
  },
  {
   "cell_type": "code",
   "execution_count": 7,
   "metadata": {},
   "outputs": [],
   "source": [
    "valve_df = pd.DataFrame(np.ones(len(valve_names)).reshape(1,-1), columns=valve_names)"
   ]
  },
  {
   "cell_type": "code",
   "execution_count": 8,
   "metadata": {},
   "outputs": [
    {
     "data": {
      "text/html": [
       "<div>\n",
       "<style scoped>\n",
       "    .dataframe tbody tr th:only-of-type {\n",
       "        vertical-align: middle;\n",
       "    }\n",
       "\n",
       "    .dataframe tbody tr th {\n",
       "        vertical-align: top;\n",
       "    }\n",
       "\n",
       "    .dataframe thead th {\n",
       "        text-align: right;\n",
       "    }\n",
       "</style>\n",
       "<table border=\"1\" class=\"dataframe\">\n",
       "  <thead>\n",
       "    <tr style=\"text-align: right;\">\n",
       "      <th></th>\n",
       "      <th>V45</th>\n",
       "      <th>V47</th>\n",
       "      <th>V2</th>\n",
       "    </tr>\n",
       "  </thead>\n",
       "  <tbody>\n",
       "    <tr>\n",
       "      <td>0</td>\n",
       "      <td>1.0</td>\n",
       "      <td>1.0</td>\n",
       "      <td>1.0</td>\n",
       "    </tr>\n",
       "  </tbody>\n",
       "</table>\n",
       "</div>"
      ],
      "text/plain": [
       "   V45  V47   V2\n",
       "0  1.0  1.0  1.0"
      ]
     },
     "execution_count": 8,
     "metadata": {},
     "output_type": "execute_result"
    }
   ],
   "source": [
    "valve_df"
   ]
  },
  {
   "cell_type": "code",
   "execution_count": 9,
   "metadata": {},
   "outputs": [],
   "source": [
    "# pump names\n",
    "pump_names = np.array(ctown.name_list[\"link_name_list\"][\"pump_names\"])"
   ]
  },
  {
   "cell_type": "code",
   "execution_count": 10,
   "metadata": {},
   "outputs": [],
   "source": [
    "pump_df = pd.DataFrame(np.ones(len(pump_names)).reshape(1,-1), columns=pump_names)"
   ]
  },
  {
   "cell_type": "code",
   "execution_count": 11,
   "metadata": {},
   "outputs": [
    {
     "data": {
      "text/html": [
       "<div>\n",
       "<style scoped>\n",
       "    .dataframe tbody tr th:only-of-type {\n",
       "        vertical-align: middle;\n",
       "    }\n",
       "\n",
       "    .dataframe tbody tr th {\n",
       "        vertical-align: top;\n",
       "    }\n",
       "\n",
       "    .dataframe thead th {\n",
       "        text-align: right;\n",
       "    }\n",
       "</style>\n",
       "<table border=\"1\" class=\"dataframe\">\n",
       "  <thead>\n",
       "    <tr style=\"text-align: right;\">\n",
       "      <th></th>\n",
       "      <th>PU1</th>\n",
       "      <th>PU2</th>\n",
       "      <th>PU3</th>\n",
       "      <th>PU4</th>\n",
       "      <th>PU5</th>\n",
       "      <th>PU6</th>\n",
       "      <th>PU7</th>\n",
       "      <th>PU8</th>\n",
       "      <th>PU9</th>\n",
       "      <th>PU10</th>\n",
       "      <th>PU11</th>\n",
       "    </tr>\n",
       "  </thead>\n",
       "  <tbody>\n",
       "    <tr>\n",
       "      <td>0</td>\n",
       "      <td>1.0</td>\n",
       "      <td>1.0</td>\n",
       "      <td>1.0</td>\n",
       "      <td>1.0</td>\n",
       "      <td>1.0</td>\n",
       "      <td>1.0</td>\n",
       "      <td>1.0</td>\n",
       "      <td>1.0</td>\n",
       "      <td>1.0</td>\n",
       "      <td>1.0</td>\n",
       "      <td>1.0</td>\n",
       "    </tr>\n",
       "  </tbody>\n",
       "</table>\n",
       "</div>"
      ],
      "text/plain": [
       "   PU1  PU2  PU3  PU4  PU5  PU6  PU7  PU8  PU9  PU10  PU11\n",
       "0  1.0  1.0  1.0  1.0  1.0  1.0  1.0  1.0  1.0   1.0   1.0"
      ]
     },
     "execution_count": 11,
     "metadata": {},
     "output_type": "execute_result"
    }
   ],
   "source": [
    "pump_df"
   ]
  },
  {
   "cell_type": "markdown",
   "metadata": {},
   "source": [
    "The pipe object in wntr simulator has the following data type:\n",
    "<Pipe 'P1' from 'J175' to 'J174', length=52.9, diameter=0.203, roughness=72.4549266, minor_loss=0.0, check_valve=False, status=Open>,"
   ]
  },
  {
   "cell_type": "code",
   "execution_count": 12,
   "metadata": {},
   "outputs": [],
   "source": [
    "# pipe name\n",
    "pipe_names = ctown.name_list[\"link_name_list\"][\"pipe_names\"]\n",
    "\n",
    "# pipe object in wntr\n",
    "pipes = ctown.get_link(pipe_names)"
   ]
  },
  {
   "cell_type": "code",
   "execution_count": 13,
   "metadata": {},
   "outputs": [],
   "source": [
    "# get the start and end node of pipe object in c town\n",
    "pipe_start_nodes = [pipe.start_node_name for pipe in pipes]\n",
    "pipe_end_nodes = [pipe.end_node_name for pipe in pipes]"
   ]
  },
  {
   "cell_type": "markdown",
   "metadata": {},
   "source": [
    "# Get Coordinates"
   ]
  },
  {
   "cell_type": "code",
   "execution_count": 14,
   "metadata": {},
   "outputs": [],
   "source": [
    "nodes = ctown.wn.nodes.todict()"
   ]
  },
  {
   "cell_type": "code",
   "execution_count": 15,
   "metadata": {},
   "outputs": [],
   "source": [
    "coords_arr = np.array([nodes[key][\"coordinates\"] for key in nodes.keys()])"
   ]
  },
  {
   "cell_type": "code",
   "execution_count": 16,
   "metadata": {},
   "outputs": [],
   "source": [
    "coords = pd.DataFrame(coords_arr, index=node_names_all)"
   ]
  },
  {
   "cell_type": "code",
   "execution_count": 17,
   "metadata": {},
   "outputs": [
    {
     "data": {
      "text/html": [
       "<div>\n",
       "<style scoped>\n",
       "    .dataframe tbody tr th:only-of-type {\n",
       "        vertical-align: middle;\n",
       "    }\n",
       "\n",
       "    .dataframe tbody tr th {\n",
       "        vertical-align: top;\n",
       "    }\n",
       "\n",
       "    .dataframe thead th {\n",
       "        text-align: right;\n",
       "    }\n",
       "</style>\n",
       "<table border=\"1\" class=\"dataframe\">\n",
       "  <thead>\n",
       "    <tr style=\"text-align: right;\">\n",
       "      <th></th>\n",
       "      <th>0</th>\n",
       "      <th>1</th>\n",
       "    </tr>\n",
       "  </thead>\n",
       "  <tbody>\n",
       "    <tr>\n",
       "      <td>J511</td>\n",
       "      <td>-246643.52</td>\n",
       "      <td>150768.11</td>\n",
       "    </tr>\n",
       "    <tr>\n",
       "      <td>J411</td>\n",
       "      <td>-248212.98</td>\n",
       "      <td>148750.19</td>\n",
       "    </tr>\n",
       "    <tr>\n",
       "      <td>J414</td>\n",
       "      <td>-247493.99</td>\n",
       "      <td>148416.24</td>\n",
       "    </tr>\n",
       "    <tr>\n",
       "      <td>J415</td>\n",
       "      <td>-246594.18</td>\n",
       "      <td>149477.91</td>\n",
       "    </tr>\n",
       "    <tr>\n",
       "      <td>J416</td>\n",
       "      <td>-246486.73</td>\n",
       "      <td>149817.86</td>\n",
       "    </tr>\n",
       "    <tr>\n",
       "      <td>...</td>\n",
       "      <td>...</td>\n",
       "      <td>...</td>\n",
       "    </tr>\n",
       "    <tr>\n",
       "      <td>T7</td>\n",
       "      <td>-247541.51</td>\n",
       "      <td>149418.76</td>\n",
       "    </tr>\n",
       "    <tr>\n",
       "      <td>T6</td>\n",
       "      <td>-247033.12</td>\n",
       "      <td>149124.18</td>\n",
       "    </tr>\n",
       "    <tr>\n",
       "      <td>T5</td>\n",
       "      <td>-247570.01</td>\n",
       "      <td>150863.14</td>\n",
       "    </tr>\n",
       "    <tr>\n",
       "      <td>T2</td>\n",
       "      <td>-246845.71</td>\n",
       "      <td>148674.23</td>\n",
       "    </tr>\n",
       "    <tr>\n",
       "      <td>T4</td>\n",
       "      <td>-246160.35</td>\n",
       "      <td>150738.12</td>\n",
       "    </tr>\n",
       "  </tbody>\n",
       "</table>\n",
       "<p>396 rows × 2 columns</p>\n",
       "</div>"
      ],
      "text/plain": [
       "              0          1\n",
       "J511 -246643.52  150768.11\n",
       "J411 -248212.98  148750.19\n",
       "J414 -247493.99  148416.24\n",
       "J415 -246594.18  149477.91\n",
       "J416 -246486.73  149817.86\n",
       "...         ...        ...\n",
       "T7   -247541.51  149418.76\n",
       "T6   -247033.12  149124.18\n",
       "T5   -247570.01  150863.14\n",
       "T2   -246845.71  148674.23\n",
       "T4   -246160.35  150738.12\n",
       "\n",
       "[396 rows x 2 columns]"
      ]
     },
     "execution_count": 17,
     "metadata": {},
     "output_type": "execute_result"
    }
   ],
   "source": [
    "coords"
   ]
  },
  {
   "cell_type": "code",
   "execution_count": 18,
   "metadata": {
    "scrolled": true
   },
   "outputs": [
    {
     "data": {
      "text/html": [
       "<div>\n",
       "<style scoped>\n",
       "    .dataframe tbody tr th:only-of-type {\n",
       "        vertical-align: middle;\n",
       "    }\n",
       "\n",
       "    .dataframe tbody tr th {\n",
       "        vertical-align: top;\n",
       "    }\n",
       "\n",
       "    .dataframe thead th {\n",
       "        text-align: right;\n",
       "    }\n",
       "</style>\n",
       "<table border=\"1\" class=\"dataframe\">\n",
       "  <thead>\n",
       "    <tr style=\"text-align: right;\">\n",
       "      <th></th>\n",
       "      <th>0</th>\n",
       "      <th>1</th>\n",
       "    </tr>\n",
       "  </thead>\n",
       "  <tbody>\n",
       "    <tr>\n",
       "      <td>J511</td>\n",
       "      <td>-246643.52</td>\n",
       "      <td>150768.11</td>\n",
       "    </tr>\n",
       "    <tr>\n",
       "      <td>J411</td>\n",
       "      <td>-248212.98</td>\n",
       "      <td>148750.19</td>\n",
       "    </tr>\n",
       "    <tr>\n",
       "      <td>J414</td>\n",
       "      <td>-247493.99</td>\n",
       "      <td>148416.24</td>\n",
       "    </tr>\n",
       "    <tr>\n",
       "      <td>J415</td>\n",
       "      <td>-246594.18</td>\n",
       "      <td>149477.91</td>\n",
       "    </tr>\n",
       "    <tr>\n",
       "      <td>J416</td>\n",
       "      <td>-246486.73</td>\n",
       "      <td>149817.86</td>\n",
       "    </tr>\n",
       "    <tr>\n",
       "      <td>...</td>\n",
       "      <td>...</td>\n",
       "      <td>...</td>\n",
       "    </tr>\n",
       "    <tr>\n",
       "      <td>J306</td>\n",
       "      <td>-247265.94</td>\n",
       "      <td>149903.38</td>\n",
       "    </tr>\n",
       "    <tr>\n",
       "      <td>J307</td>\n",
       "      <td>-246942.85</td>\n",
       "      <td>149566.05</td>\n",
       "    </tr>\n",
       "    <tr>\n",
       "      <td>J309</td>\n",
       "      <td>-247094.89</td>\n",
       "      <td>149613.56</td>\n",
       "    </tr>\n",
       "    <tr>\n",
       "      <td>J317</td>\n",
       "      <td>-247023.62</td>\n",
       "      <td>149361.74</td>\n",
       "    </tr>\n",
       "    <tr>\n",
       "      <td>J323</td>\n",
       "      <td>-247170.91</td>\n",
       "      <td>149409.25</td>\n",
       "    </tr>\n",
       "  </tbody>\n",
       "</table>\n",
       "<p>388 rows × 2 columns</p>\n",
       "</div>"
      ],
      "text/plain": [
       "              0          1\n",
       "J511 -246643.52  150768.11\n",
       "J411 -248212.98  148750.19\n",
       "J414 -247493.99  148416.24\n",
       "J415 -246594.18  149477.91\n",
       "J416 -246486.73  149817.86\n",
       "...         ...        ...\n",
       "J306 -247265.94  149903.38\n",
       "J307 -246942.85  149566.05\n",
       "J309 -247094.89  149613.56\n",
       "J317 -247023.62  149361.74\n",
       "J323 -247170.91  149409.25\n",
       "\n",
       "[388 rows x 2 columns]"
      ]
     },
     "execution_count": 18,
     "metadata": {},
     "output_type": "execute_result"
    }
   ],
   "source": [
    "coords.loc[junction_names]"
   ]
  },
  {
   "cell_type": "markdown",
   "metadata": {},
   "source": [
    "# Data Preprocessing"
   ]
  },
  {
   "cell_type": "markdown",
   "metadata": {},
   "source": [
    "## Pressure data"
   ]
  },
  {
   "cell_type": "code",
   "execution_count": 19,
   "metadata": {},
   "outputs": [],
   "source": [
    "X = pd.read_csv(\"Clustering_Algorithm/pressure_0_epanet_whole.csv\")\n",
    "temp_list = list(X.keys())\n",
    "time_list = X.values[:,0]\n",
    "junction_name_list = [j for j in temp_list if j.startswith(\"J\")]\n",
    "\n",
    "X_pressure = X[junction_name_list].values"
   ]
  },
  {
   "cell_type": "code",
   "execution_count": 20,
   "metadata": {},
   "outputs": [
    {
     "data": {
      "text/plain": [
       "array([[29.966, 65.432, 34.591, ..., 20.774, 68.696, 68.696],\n",
       "       [30.379, 65.563, 34.829, ..., 21.129, 69.879, 69.879],\n",
       "       [30.982, 65.574, 34.978, ..., 21.532, 74.745, 74.745],\n",
       "       ...,\n",
       "       [30.127, 61.175, 33.714, ..., 16.719, 65.738, 65.738],\n",
       "       [29.812, 63.58 , 34.829, ..., 18.444, 66.245, 66.245],\n",
       "       [29.778, 63.987, 35.004, ..., 19.257, 68.091, 68.091]])"
      ]
     },
     "execution_count": 20,
     "metadata": {},
     "output_type": "execute_result"
    }
   ],
   "source": [
    "X_pressure"
   ]
  },
  {
   "cell_type": "code",
   "execution_count": 21,
   "metadata": {},
   "outputs": [
    {
     "data": {
      "text/plain": [
       "(169, 388)"
      ]
     },
     "execution_count": 21,
     "metadata": {},
     "output_type": "execute_result"
    }
   ],
   "source": [
    "X_pressure.shape"
   ]
  },
  {
   "cell_type": "code",
   "execution_count": 22,
   "metadata": {},
   "outputs": [
    {
     "data": {
      "text/plain": [
       "array([     0.,   3600.,   7200.,  10800.,  14400.,  18000.,  21600.,  25200.,  28800.,  32400.,  36000.,  39600.,  43200.,  46800.,  50400.,  54000.,  57600.,  61200.,  64800.,  68400.,  72000.,  75600.,  79200.,  82800.,  86400.,  90000.,  93600.,  97200., 100800., 104400., 108000., 111600.,\n",
       "       115200., 118800., 122400., 126000., 129600., 133200., 136800., 140400., 144000., 147600., 151200., 154800., 158400., 162000., 165600., 169200., 172800., 176400., 180000., 183600., 187200., 190800., 194400., 198000., 201600., 205200., 208800., 212400., 216000., 219600., 223200., 226800.,\n",
       "       230400., 234000., 237600., 241200., 244800., 248400., 252000., 255600., 259200., 262800., 266400., 270000., 273600., 277200., 280800., 284400., 288000., 291600., 295200., 298800., 302400., 306000., 309600., 313200., 316800., 320400., 324000., 327600., 331200., 334800., 338400., 342000.,\n",
       "       345600., 349200., 352800., 356400., 360000., 363600., 367200., 370800., 374400., 378000., 381600., 385200., 388800., 392400., 396000., 399600., 403200., 406800., 410400., 414000., 417600., 421200., 424800., 428400., 432000., 435600., 439200., 442800., 446400., 450000., 453600., 457200.,\n",
       "       460800., 464400., 468000., 471600., 475200., 478800., 482400., 486000., 489600., 493200., 496800., 500400., 504000., 507600., 511200., 514800., 518400., 522000., 525600., 529200., 532800., 536400., 540000., 543600., 547200., 550800., 554400., 558000., 561600., 565200., 568800., 572400.,\n",
       "       576000., 579600., 583200., 586800., 590400., 594000., 597600., 601200., 604800.])"
      ]
     },
     "execution_count": 22,
     "metadata": {},
     "output_type": "execute_result"
    }
   ],
   "source": [
    "time_list"
   ]
  },
  {
   "cell_type": "markdown",
   "metadata": {},
   "source": [
    "## Get Data Normalized and Visualization"
   ]
  },
  {
   "cell_type": "code",
   "execution_count": 23,
   "metadata": {},
   "outputs": [],
   "source": [
    "def data_normalization(data):\n",
    "    scaling_factor = np.mean(data, axis = 0).reshape(-1,1)\n",
    "    normalized_data = np.zeros(data.shape)\n",
    "    for i in range(data.shape[1]):\n",
    "        normalized_data[:,i] = data[:,i]/scaling_factor[i]\n",
    "    return normalized_data\n",
    "\n",
    "X_pressure_normalized = data_normalization(X_pressure)"
   ]
  },
  {
   "cell_type": "code",
   "execution_count": 24,
   "metadata": {},
   "outputs": [
    {
     "data": {
      "text/plain": [
       "array([[0.967, 0.989, 0.902, ..., 0.851, 1.01 , 1.01 ],\n",
       "       [0.98 , 0.991, 0.908, ..., 0.866, 1.028, 1.028],\n",
       "       [1.   , 0.991, 0.912, ..., 0.883, 1.099, 1.099],\n",
       "       ...,\n",
       "       [0.972, 0.925, 0.879, ..., 0.685, 0.967, 0.967],\n",
       "       [0.962, 0.961, 0.908, ..., 0.756, 0.974, 0.974],\n",
       "       [0.961, 0.967, 0.913, ..., 0.789, 1.002, 1.002]])"
      ]
     },
     "execution_count": 24,
     "metadata": {},
     "output_type": "execute_result"
    }
   ],
   "source": [
    "X_pressure_normalized"
   ]
  },
  {
   "cell_type": "code",
   "execution_count": 25,
   "metadata": {},
   "outputs": [
    {
     "data": {
      "text/plain": [
       "array([[29.966, 65.432, 34.591, ..., 20.774, 68.696, 68.696],\n",
       "       [30.379, 65.563, 34.829, ..., 21.129, 69.879, 69.879],\n",
       "       [30.982, 65.574, 34.978, ..., 21.532, 74.745, 74.745],\n",
       "       ...,\n",
       "       [30.127, 61.175, 33.714, ..., 16.719, 65.738, 65.738],\n",
       "       [29.812, 63.58 , 34.829, ..., 18.444, 66.245, 66.245],\n",
       "       [29.778, 63.987, 35.004, ..., 19.257, 68.091, 68.091]])"
      ]
     },
     "execution_count": 25,
     "metadata": {},
     "output_type": "execute_result"
    }
   ],
   "source": [
    "X_pressure"
   ]
  },
  {
   "cell_type": "code",
   "execution_count": 26,
   "metadata": {},
   "outputs": [
    {
     "data": {
      "image/png": "[encoded data removed]",
      "text/plain": [
       "<Figure size 432x288 with 2 Axes>"
      ]
     },
     "metadata": {
      "needs_background": "light"
     },
     "output_type": "display_data"
    }
   ],
   "source": [
    "fig, ax1 = plt.subplots()\n",
    "\n",
    "color = \"tab:red\"\n",
    "plt.title(\"Comparision of data before and after normalization\")\n",
    "ax1.plot(time_list, X_pressure[:,2],color = color, label = \"original data\")\n",
    "ax1.set_xlabel(\"time\")\n",
    "ax1.set_ylabel(\"pressure\")\n",
    "ax1.tick_params(axis=\"y\", labelcolor = color)\n",
    "\n",
    "ax2 = ax1.twinx()\n",
    "\n",
    "color = \"tab:green\"\n",
    "ax2.set_ylabel(\"normalized pressure\")\n",
    "ax2.plot(time_list, X_pressure_normalized[:,2],color=color, label = \"normalized data\")\n",
    "ax2.tick_params(axis=\"y\", labelcolor = color)\n",
    "\n",
    "fig.tight_layout()\n",
    "plt.show()"
   ]
  },
  {
   "cell_type": "markdown",
   "metadata": {},
   "source": [
    "## Scaling Data"
   ]
  },
  {
   "cell_type": "code",
   "execution_count": 27,
   "metadata": {},
   "outputs": [],
   "source": [
    "mms = MinMaxScaler()\n",
    "ss = StandardScaler()\n",
    "X_pressure_mms = mms.fit_transform(X_pressure)\n",
    "X_pressure_ss = ss.fit_transform(X_pressure)"
   ]
  },
  {
   "cell_type": "code",
   "execution_count": 28,
   "metadata": {},
   "outputs": [
    {
     "data": {
      "text/plain": [
       "array([[0.261, 0.363, 0.069, ..., 0.22 , 0.632, 0.632],\n",
       "       [0.404, 0.374, 0.087, ..., 0.239, 0.686, 0.686],\n",
       "       [0.613, 0.375, 0.097, ..., 0.261, 0.906, 0.906],\n",
       "       ...,\n",
       "       [0.317, 0.   , 0.006, ..., 0.   , 0.498, 0.498],\n",
       "       [0.208, 0.205, 0.087, ..., 0.094, 0.521, 0.521],\n",
       "       [0.196, 0.24 , 0.099, ..., 0.138, 0.605, 0.605]])"
      ]
     },
     "execution_count": 28,
     "metadata": {},
     "output_type": "execute_result"
    }
   ],
   "source": [
    "X_pressure_mms"
   ]
  },
  {
   "cell_type": "code",
   "execution_count": 29,
   "metadata": {},
   "outputs": [
    {
     "data": {
      "text/plain": [
       "array([[-1.694, -0.314, -1.071, ..., -0.824,  0.142,  0.142],\n",
       "       [-1.009, -0.258, -1.003, ..., -0.744,  0.377,  0.377],\n",
       "       [-0.008, -0.253, -0.961, ..., -0.652,  1.344,  1.344],\n",
       "       ...,\n",
       "       [-1.427, -2.128, -1.322, ..., -1.747, -0.446, -0.446],\n",
       "       [-1.949, -1.103, -1.003, ..., -1.354, -0.345, -0.345],\n",
       "       [-2.005, -0.93 , -0.953, ..., -1.169,  0.022,  0.022]])"
      ]
     },
     "execution_count": 29,
     "metadata": {},
     "output_type": "execute_result"
    }
   ],
   "source": [
    "X_pressure_ss"
   ]
  },
  {
   "cell_type": "code",
   "execution_count": 30,
   "metadata": {},
   "outputs": [
    {
     "data": {
      "image/png": "[encoded data removed]",
      "text/plain": [
       "<Figure size 432x288 with 1 Axes>"
      ]
     },
     "metadata": {
      "needs_background": "light"
     },
     "output_type": "display_data"
    }
   ],
   "source": [
    "plt.figure()\n",
    "plt.title(\"Comparision of normalized data before and after scaling\")\n",
    "plt.plot(time_list, X_pressure_normalized[:,2],\"r-\", label = \"normalized data\")\n",
    "plt.plot(time_list, X_pressure_mms[:,2],\"g-\", label = \"data after mms\")\n",
    "plt.plot(time_list, X_pressure_ss[:,2],\"b-\", label = \"data after ss\")\n",
    "plt.xlabel(\"time\")\n",
    "plt.ylabel(\"pressure\")\n",
    "plt.legend(loc = \"best\")\n",
    "plt.grid(True)\n",
    "fig.tight_layout()\n",
    "plt.show()"
   ]
  },
  {
   "cell_type": "markdown",
   "metadata": {},
   "source": [
    "## Define Function for Visualization"
   ]
  },
  {
   "cell_type": "code",
   "execution_count": 31,
   "metadata": {},
   "outputs": [],
   "source": [
    "def plot_result(data, wn, n_cluster, n_junctions, n_cluster_labels, clustering_name, plot_individual=True):\n",
    "    \"\"\"\n",
    "    data: simulation data\n",
    "    wn: water network object\n",
    "    n_cluster_labels: pd.Dataframe\n",
    "    \"\"\"\n",
    "    \n",
    "\n",
    "    cmap = matplotlib.cm.get_cmap('tab20')\n",
    "\n",
    "    fig_1, ax_1 = plt.subplots(1,1, figsize=(10,8), sharex=True, sharey=True)\n",
    "    compare_to = 0\n",
    "    press = data[compare_to]\n",
    "\n",
    "\n",
    "    # Highlight pumps\n",
    "    wntr.graphics.plot_network(wn, link_attribute=pump_df.loc[0],node_size=1, link_width=6, \n",
    "                           add_colorbar=False, title='Pumps', ax=ax_1)\n",
    "\n",
    "\n",
    "    # Highlight valves\n",
    "    wntr.graphics.plot_network(ctown.wn, link_attribute=valve_df.loc[0],node_size=1, link_width=6, \n",
    "                           add_colorbar=False, title='Valves', ax=ax_1)\n",
    "\n",
    "\n",
    "    lines = wntr.graphics.plot_network(wn, node_attribute=n_cluster_labels.loc['pressure_cluster'],\n",
    "                                   node_size=50, node_labels=False, node_cmap='tab20',\n",
    "                                   add_colorbar=False, title=clustering_name, ax=ax_1) \n",
    "    \n",
    "    if plot_individual:\n",
    "        for i in range(n_junctions):\n",
    "            node_loc = coords.loc[junction_names[i]]\n",
    "            ax_1.text(*node_loc.tolist(), str(n_cluster_labels.values.reshape(-1,1)[i]), ha=\"center\", va=\"center\")\n",
    "        fig_1.tight_layout()\n",
    "                      \n",
    "                      \n",
    "    if not plot_individual:\n",
    "        for i in range(n_cluster):\n",
    "            cluster_mean = coords.loc[junction_names][n_cluster_labels.values.reshape(-1,1)==i].median()-100\n",
    "            ax_1.text(*cluster_mean.tolist(), str(i), ha=\"center\", va=\"center\",\n",
    "                         bbox=dict(boxstyle=\"round\", ec='k', fc=cmap(i/n_cluster), alpha=0.7))\n",
    "        fig_1.tight_layout()"
   ]
  },
  {
   "cell_type": "markdown",
   "metadata": {},
   "source": [
    "## PCA"
   ]
  },
  {
   "cell_type": "markdown",
   "metadata": {},
   "source": [
    "Here is the problem I found and I want to express my thoughs here so that we can discuss tomorrow.\n",
    "\n",
    "Our goal of implementing clustering method is to find the similar pressure charateristics among 388 junctions in c town and group the similar junction together. So what we actually want to do is just to cluster 388 into 25 (may be). Considering we have the pressure data shape (169, 388), which means, we need to reduce 388 samples with 169 dimension into certain number of representatives among 388 samples and reduced dimension.\n",
    "\n",
    "The reason we use PCA is because, we want to reduce the dimension, i.e. we want to use a lower dimension data, e.g. (11, 388) and the put it into clustering algorithm to reduce the complexity of analysing (169,388) data. Because this (169, 388) data can be almost represented by (11, 388) data.\n",
    "\n",
    "This is my ideas and so I am confused about why we should implement PCA on 388 dimension."
   ]
  },
  {
   "cell_type": "code",
   "execution_count": 32,
   "metadata": {},
   "outputs": [
    {
     "data": {
      "text/plain": [
       "(169, 388)"
      ]
     },
     "execution_count": 32,
     "metadata": {},
     "output_type": "execute_result"
    }
   ],
   "source": [
    "X_pressure_ss.shape"
   ]
  },
  {
   "cell_type": "code",
   "execution_count": 33,
   "metadata": {},
   "outputs": [],
   "source": [
    "pca_T = PCA().fit(X_pressure_ss.T)\n",
    "variance_T = pca_T.explained_variance_ratio_\n",
    "cumsum_variance_T = np.cumsum(pca_T.explained_variance_ratio_)\n",
    "\n",
    "pca = PCA().fit(X_pressure_ss)\n",
    "variance = pca.explained_variance_ratio_\n",
    "cumsum_variance = np.cumsum(pca.explained_variance_ratio_)"
   ]
  },
  {
   "cell_type": "markdown",
   "metadata": {},
   "source": [
    "Plot the explained variance"
   ]
  },
  {
   "cell_type": "code",
   "execution_count": 34,
   "metadata": {},
   "outputs": [
    {
     "data": {
      "image/png": "[encoded data removed]",
      "text/plain": [
       "<Figure size 432x288 with 1 Axes>"
      ]
     },
     "metadata": {
      "needs_background": "light"
     },
     "output_type": "display_data"
    }
   ],
   "source": [
    "plt.figure()\n",
    "plt.plot(variance_T)\n",
    "plt.xlabel(\"number of components\")\n",
    "plt.ylabel(\"cumulative explained variance\")\n",
    "plt.grid(True)\n",
    "plt.show()"
   ]
  },
  {
   "cell_type": "code",
   "execution_count": 35,
   "metadata": {},
   "outputs": [
    {
     "data": {
      "image/png": "[encoded data removed]",
      "text/plain": [
       "<Figure size 432x288 with 1 Axes>"
      ]
     },
     "metadata": {
      "needs_background": "light"
     },
     "output_type": "display_data"
    }
   ],
   "source": [
    "plt.figure()\n",
    "plt.plot(cumsum_variance_T)\n",
    "plt.xlabel(\"number of components\")\n",
    "plt.ylabel(\"explained variance\")\n",
    "plt.grid(True)\n",
    "plt.show()"
   ]
  },
  {
   "cell_type": "markdown",
   "metadata": {},
   "source": [
    "Find the optimal n_components."
   ]
  },
  {
   "cell_type": "code",
   "execution_count": 36,
   "metadata": {},
   "outputs": [
    {
     "data": {
      "text/plain": [
       "11"
      ]
     },
     "execution_count": 36,
     "metadata": {},
     "output_type": "execute_result"
    }
   ],
   "source": [
    "pca_T = PCA(0.99).fit(X_pressure_ss.T)\n",
    "n_components_T = pca_T.n_components_\n",
    "n_components_T"
   ]
  },
  {
   "cell_type": "markdown",
   "metadata": {},
   "source": [
    "Use n_components = 11 to get the reduce X_pressure data"
   ]
  },
  {
   "cell_type": "code",
   "execution_count": 37,
   "metadata": {},
   "outputs": [],
   "source": [
    "X_pressure_ss_reduced_T = pca_T.transform(X_pressure_ss.T)"
   ]
  },
  {
   "cell_type": "code",
   "execution_count": 38,
   "metadata": {},
   "outputs": [
    {
     "data": {
      "text/plain": [
       "(388, 11)"
      ]
     },
     "execution_count": 38,
     "metadata": {},
     "output_type": "execute_result"
    }
   ],
   "source": [
    "X_pressure_ss_reduced_T.shape "
   ]
  },
  {
   "cell_type": "markdown",
   "metadata": {},
   "source": [
    "## Feature Weight Learning"
   ]
  },
  {
   "cell_type": "markdown",
   "metadata": {},
   "source": [
    "Define some helper functions"
   ]
  },
  {
   "cell_type": "code",
   "execution_count": 39,
   "metadata": {},
   "outputs": [],
   "source": [
    "# using feature weight learning method to get the information about the importance of different junctions in data set\n",
    "\n",
    "def weighted_euclidean(X, V, weights):\n",
    "    dists = X - V\n",
    "    return np.sqrt(np.sum((dists * weights) ** 2))\n",
    "\n",
    "\n",
    "def single_delta(X, V, F):\n",
    "    d = X[F] - V[F]\n",
    "    return d\n",
    "\n",
    "\n",
    "def cal_beta(X, d):\n",
    "    n = X.shape[0]\n",
    "    for b in np.linspace(0, 1.2, 1000):\n",
    "        p = 1 / (1 + b * d)\n",
    "        p = np.triu(p, 1)\n",
    "        para = (2 / (n * (n - 1))) * np.sum(p)\n",
    "        if para < 0.5:\n",
    "            print(f\"beta = {b}\")\n",
    "            return b\n",
    "\n",
    "\n",
    "def return_weights(X, beta, d):\n",
    "    np.seterr(divide=\"ignore\", invalid=\"ignore\")\n",
    "    max_iter = 100\n",
    "    threshold = 1e-5\n",
    "    w = np.empty((1, X.shape[1]))  # initialize w matrix with the same shape as features in X data set and elements 1\n",
    "    w.fill(1)\n",
    "    rho_1 = 1 / (1 + beta * d)\n",
    "    n = X.shape[0]\n",
    "    E_old = 1\n",
    "    for i in tqdm(range(0, max_iter)):\n",
    "        d = pairwise_distances(X, X, metric=weighted_euclidean, **{'weights': w})\n",
    "        grad_w = np.empty((1, X.shape[1]))\n",
    "        part_rho_d = -beta / ((1 + beta * d) ** 2)\n",
    "        rho_w = 1 / (1 + beta * d)\n",
    "        E = (2 / (n * (n - 1))) * np.sum(np.triu(.5 * (rho_w * (1 - rho_1) + rho_1 * (1 - rho_w)), 1))\n",
    "        print(\"\\n\")\n",
    "        print(f\"E = {E}\")\n",
    "        if E_old - E < threshold:\n",
    "            print(f\"{i} iterations required.\\n\")\n",
    "            break\n",
    "        E_old = E\n",
    "        part_E_rho = (1 - 2 * rho_1)\n",
    "        w_valid = np.where(w > 0)[1]\n",
    "        #print(f'w_valid = {w_valid} \\n')\n",
    "        # calculate the gradient of w\n",
    "        for j in w_valid:\n",
    "            d_w = pairwise_distances(X, X, metric=single_delta, **{'F': j})\n",
    "            #print(f'dw = {d_w}')\n",
    "            part_w = np.divide(w[0, j] * (d_w ** 2), d)\n",
    "            #print(f\"part_w.shape = {part_w.shape}\")\n",
    "            #part_w = np.triu(part_w, 1)\n",
    "            #print(f\"part_w = {part_w}\")\n",
    "            part_w = np.triu(part_w, 1)\n",
    "            grad_w_j = 1 / (n * (n - 1)) * part_E_rho * part_rho_d * part_w\n",
    "            grad_w_j = np.triu(grad_w_j, 1)\n",
    "            #grad_w_j = np.triu(grad_w_j, 1)\n",
    "            grad_w[0, j] = np.nansum(grad_w_j)\n",
    "            #print(f\"grad_w =  {grad_w}\")\n",
    "\n",
    "        grad_w = grad_w * 2e4\n",
    "        w = w - grad_w\n",
    "        #print(f\"w = {w}\")\n",
    "        w = w.clip(min=0)\n",
    "\n",
    "    w_max = np.max(w)\n",
    "    w = w / w_max # normalize w, because the minimum of w is zero, so w/(w_max - w_min) = w/(w_max - 0)\n",
    "    print(f\"w = {w}\")\n",
    "    return w"
   ]
  },
  {
   "cell_type": "markdown",
   "metadata": {},
   "source": [
    "test the method by running the following code"
   ]
  },
  {
   "cell_type": "code",
   "execution_count": 40,
   "metadata": {},
   "outputs": [
    {
     "name": "stdout",
     "output_type": "stream",
     "text": [
      "X.shape = (388, 169)\n"
     ]
    }
   ],
   "source": [
    "X = X_pressure_normalized.T\n",
    "print(f\"X.shape = {X.shape}\")"
   ]
  },
  {
   "cell_type": "code",
   "execution_count": 41,
   "metadata": {},
   "outputs": [
    {
     "name": "stdout",
     "output_type": "stream",
     "text": [
      "pairwise distance =[[0.    0.504 0.992 ... 1.872 0.854 0.483]\n",
      " [0.504 0.    0.609 ... 2.145 1.232 0.706]\n",
      " [0.992 0.609 0.    ... 2.434 1.647 1.139]\n",
      " ...\n",
      " [1.872 2.145 2.434 ... 0.    1.27  1.669]\n",
      " [0.854 1.232 1.647 ... 1.27  0.    0.666]\n",
      " [0.483 0.706 1.139 ... 1.669 0.666 0.   ]] \n"
     ]
    }
   ],
   "source": [
    "n = X_pressure_normalized.shape[0]\n",
    "d = pairwise_distances(X_pressure_normalized, X_pressure_normalized, metric=\"euclidean\")  # normal d\n",
    "print(f\"pairwise distance ={d} \")"
   ]
  },
  {
   "cell_type": "code",
   "execution_count": 42,
   "metadata": {},
   "outputs": [
    {
     "name": "stdout",
     "output_type": "stream",
     "text": [
      "beta = 0.5633633633633633\n"
     ]
    }
   ],
   "source": [
    "# calculate best beta\n",
    "beta = cal_beta(X_pressure_normalized, d)"
   ]
  },
  {
   "cell_type": "code",
   "execution_count": 43,
   "metadata": {
    "scrolled": true
   },
   "outputs": [
    {
     "name": "stderr",
     "output_type": "stream",
     "text": [
      "\r",
      "  0%|          | 0/100 [00:00<?, ?it/s]"
     ]
    },
    {
     "name": "stdout",
     "output_type": "stream",
     "text": [
      "\n",
      "\n",
      "E = 0.24124702645928964\n"
     ]
    },
    {
     "name": "stderr",
     "output_type": "stream",
     "text": [
      "\r",
      "  1%|          | 1/100 [00:03<06:33,  3.97s/it]"
     ]
    },
    {
     "name": "stdout",
     "output_type": "stream",
     "text": [
      "\n",
      "\n",
      "E = 0.23926536823734854\n"
     ]
    },
    {
     "name": "stderr",
     "output_type": "stream",
     "text": [
      "\r",
      "  2%|▏         | 2/100 [00:07<06:27,  3.96s/it]"
     ]
    },
    {
     "name": "stdout",
     "output_type": "stream",
     "text": [
      "\n",
      "\n",
      "E = 0.2384353055007293\n"
     ]
    },
    {
     "name": "stderr",
     "output_type": "stream",
     "text": [
      "\r",
      "  3%|▎         | 3/100 [00:11<06:20,  3.92s/it]"
     ]
    },
    {
     "name": "stdout",
     "output_type": "stream",
     "text": [
      "\n",
      "\n",
      "E = 0.2378173693720014\n"
     ]
    },
    {
     "name": "stderr",
     "output_type": "stream",
     "text": [
      "\r",
      "  4%|▍         | 4/100 [00:15<06:11,  3.87s/it]"
     ]
    },
    {
     "name": "stdout",
     "output_type": "stream",
     "text": [
      "\n",
      "\n",
      "E = 0.23745434226434042\n"
     ]
    },
    {
     "name": "stderr",
     "output_type": "stream",
     "text": [
      "\r",
      "  5%|▌         | 5/100 [00:19<06:02,  3.81s/it]"
     ]
    },
    {
     "name": "stdout",
     "output_type": "stream",
     "text": [
      "\n",
      "\n",
      "E = 0.23715797343372708\n"
     ]
    },
    {
     "name": "stderr",
     "output_type": "stream",
     "text": [
      "\r",
      "  6%|▌         | 6/100 [00:22<05:55,  3.79s/it]"
     ]
    },
    {
     "name": "stdout",
     "output_type": "stream",
     "text": [
      "\n",
      "\n",
      "E = 0.23687865528925794\n"
     ]
    },
    {
     "name": "stderr",
     "output_type": "stream",
     "text": [
      "\r",
      "  7%|▋         | 7/100 [00:26<05:48,  3.75s/it]"
     ]
    },
    {
     "name": "stdout",
     "output_type": "stream",
     "text": [
      "\n",
      "\n",
      "E = 0.23660219811389313\n"
     ]
    },
    {
     "name": "stderr",
     "output_type": "stream",
     "text": [
      "\r",
      "  8%|▊         | 8/100 [00:30<05:40,  3.70s/it]"
     ]
    },
    {
     "name": "stdout",
     "output_type": "stream",
     "text": [
      "\n",
      "\n",
      "E = 0.23631609516076704\n"
     ]
    },
    {
     "name": "stderr",
     "output_type": "stream",
     "text": [
      "\r",
      "  9%|▉         | 9/100 [00:33<05:32,  3.65s/it]"
     ]
    },
    {
     "name": "stdout",
     "output_type": "stream",
     "text": [
      "\n",
      "\n",
      "E = 0.23600590514823858\n"
     ]
    },
    {
     "name": "stderr",
     "output_type": "stream",
     "text": [
      "\r",
      " 10%|█         | 10/100 [00:37<05:25,  3.62s/it]"
     ]
    },
    {
     "name": "stdout",
     "output_type": "stream",
     "text": [
      "\n",
      "\n",
      "E = 0.23565738627383914\n"
     ]
    },
    {
     "ename": "KeyboardInterrupt",
     "evalue": "",
     "output_type": "error",
     "traceback": [
      "\u001b[0;31m---------------------------------------------------------------------------\u001b[0m",
      "\u001b[0;31mKeyboardInterrupt\u001b[0m                         Traceback (most recent call last)",
      "\u001b[0;32m<ipython-input-43-73a056008c8a>\u001b[0m in \u001b[0;36m<module>\u001b[0;34m\u001b[0m\n\u001b[1;32m      1\u001b[0m \u001b[0;31m# calculate feature weights\u001b[0m\u001b[0;34m\u001b[0m\u001b[0;34m\u001b[0m\u001b[0;34m\u001b[0m\u001b[0m\n\u001b[0;32m----> 2\u001b[0;31m \u001b[0mfeature_weights_old\u001b[0m \u001b[0;34m=\u001b[0m \u001b[0mreturn_weights\u001b[0m\u001b[0;34m(\u001b[0m\u001b[0mX_pressure_normalized\u001b[0m\u001b[0;34m,\u001b[0m \u001b[0mbeta\u001b[0m\u001b[0;34m,\u001b[0m \u001b[0md\u001b[0m\u001b[0;34m)\u001b[0m\u001b[0;34m\u001b[0m\u001b[0;34m\u001b[0m\u001b[0m\n\u001b[0m\u001b[1;32m      3\u001b[0m \u001b[0mprint\u001b[0m\u001b[0;34m(\u001b[0m\u001b[0;34mf\"feature weights = {feature_weights}\"\u001b[0m\u001b[0;34m)\u001b[0m\u001b[0;34m\u001b[0m\u001b[0;34m\u001b[0m\u001b[0m\n",
      "\u001b[0;32m<ipython-input-39-c9745b652af7>\u001b[0m in \u001b[0;36mreturn_weights\u001b[0;34m(X, beta, d)\u001b[0m\n\u001b[1;32m     48\u001b[0m         \u001b[0;31m# calculate the gradient of w\u001b[0m\u001b[0;34m\u001b[0m\u001b[0;34m\u001b[0m\u001b[0;34m\u001b[0m\u001b[0m\n\u001b[1;32m     49\u001b[0m         \u001b[0;32mfor\u001b[0m \u001b[0mj\u001b[0m \u001b[0;32min\u001b[0m \u001b[0mw_valid\u001b[0m\u001b[0;34m:\u001b[0m\u001b[0;34m\u001b[0m\u001b[0;34m\u001b[0m\u001b[0m\n\u001b[0;32m---> 50\u001b[0;31m             \u001b[0md_w\u001b[0m \u001b[0;34m=\u001b[0m \u001b[0mpairwise_distances\u001b[0m\u001b[0;34m(\u001b[0m\u001b[0mX\u001b[0m\u001b[0;34m,\u001b[0m \u001b[0mX\u001b[0m\u001b[0;34m,\u001b[0m \u001b[0mmetric\u001b[0m\u001b[0;34m=\u001b[0m\u001b[0msingle_delta\u001b[0m\u001b[0;34m,\u001b[0m \u001b[0;34m**\u001b[0m\u001b[0;34m{\u001b[0m\u001b[0;34m'F'\u001b[0m\u001b[0;34m:\u001b[0m \u001b[0mj\u001b[0m\u001b[0;34m}\u001b[0m\u001b[0;34m)\u001b[0m\u001b[0;34m\u001b[0m\u001b[0;34m\u001b[0m\u001b[0m\n\u001b[0m\u001b[1;32m     51\u001b[0m             \u001b[0;31m#print(f'dw = {d_w}')\u001b[0m\u001b[0;34m\u001b[0m\u001b[0;34m\u001b[0m\u001b[0;34m\u001b[0m\u001b[0m\n\u001b[1;32m     52\u001b[0m             \u001b[0mpart_w\u001b[0m \u001b[0;34m=\u001b[0m \u001b[0mnp\u001b[0m\u001b[0;34m.\u001b[0m\u001b[0mdivide\u001b[0m\u001b[0;34m(\u001b[0m\u001b[0mw\u001b[0m\u001b[0;34m[\u001b[0m\u001b[0;36m0\u001b[0m\u001b[0;34m,\u001b[0m \u001b[0mj\u001b[0m\u001b[0;34m]\u001b[0m \u001b[0;34m*\u001b[0m \u001b[0;34m(\u001b[0m\u001b[0md_w\u001b[0m \u001b[0;34m**\u001b[0m \u001b[0;36m2\u001b[0m\u001b[0;34m)\u001b[0m\u001b[0;34m,\u001b[0m \u001b[0md\u001b[0m\u001b[0;34m)\u001b[0m\u001b[0;34m\u001b[0m\u001b[0;34m\u001b[0m\u001b[0m\n",
      "\u001b[0;32m~/anaconda3/lib/python3.7/site-packages/sklearn/metrics/pairwise.py\u001b[0m in \u001b[0;36mpairwise_distances\u001b[0;34m(X, Y, metric, n_jobs, **kwds)\u001b[0m\n\u001b[1;32m   1586\u001b[0m         \u001b[0mfunc\u001b[0m \u001b[0;34m=\u001b[0m \u001b[0mpartial\u001b[0m\u001b[0;34m(\u001b[0m\u001b[0mdistance\u001b[0m\u001b[0;34m.\u001b[0m\u001b[0mcdist\u001b[0m\u001b[0;34m,\u001b[0m \u001b[0mmetric\u001b[0m\u001b[0;34m=\u001b[0m\u001b[0mmetric\u001b[0m\u001b[0;34m,\u001b[0m \u001b[0;34m**\u001b[0m\u001b[0mkwds\u001b[0m\u001b[0;34m)\u001b[0m\u001b[0;34m\u001b[0m\u001b[0;34m\u001b[0m\u001b[0m\n\u001b[1;32m   1587\u001b[0m \u001b[0;34m\u001b[0m\u001b[0m\n\u001b[0;32m-> 1588\u001b[0;31m     \u001b[0;32mreturn\u001b[0m \u001b[0m_parallel_pairwise\u001b[0m\u001b[0;34m(\u001b[0m\u001b[0mX\u001b[0m\u001b[0;34m,\u001b[0m \u001b[0mY\u001b[0m\u001b[0;34m,\u001b[0m \u001b[0mfunc\u001b[0m\u001b[0;34m,\u001b[0m \u001b[0mn_jobs\u001b[0m\u001b[0;34m,\u001b[0m \u001b[0;34m**\u001b[0m\u001b[0mkwds\u001b[0m\u001b[0;34m)\u001b[0m\u001b[0;34m\u001b[0m\u001b[0;34m\u001b[0m\u001b[0m\n\u001b[0m\u001b[1;32m   1589\u001b[0m \u001b[0;34m\u001b[0m\u001b[0m\n\u001b[1;32m   1590\u001b[0m \u001b[0;34m\u001b[0m\u001b[0m\n",
      "\u001b[0;32m~/anaconda3/lib/python3.7/site-packages/sklearn/metrics/pairwise.py\u001b[0m in \u001b[0;36m_parallel_pairwise\u001b[0;34m(X, Y, func, n_jobs, **kwds)\u001b[0m\n\u001b[1;32m   1204\u001b[0m \u001b[0;34m\u001b[0m\u001b[0m\n\u001b[1;32m   1205\u001b[0m     \u001b[0;32mif\u001b[0m \u001b[0meffective_n_jobs\u001b[0m\u001b[0;34m(\u001b[0m\u001b[0mn_jobs\u001b[0m\u001b[0;34m)\u001b[0m \u001b[0;34m==\u001b[0m \u001b[0;36m1\u001b[0m\u001b[0;34m:\u001b[0m\u001b[0;34m\u001b[0m\u001b[0;34m\u001b[0m\u001b[0m\n\u001b[0;32m-> 1206\u001b[0;31m         \u001b[0;32mreturn\u001b[0m \u001b[0mfunc\u001b[0m\u001b[0;34m(\u001b[0m\u001b[0mX\u001b[0m\u001b[0;34m,\u001b[0m \u001b[0mY\u001b[0m\u001b[0;34m,\u001b[0m \u001b[0;34m**\u001b[0m\u001b[0mkwds\u001b[0m\u001b[0;34m)\u001b[0m\u001b[0;34m\u001b[0m\u001b[0;34m\u001b[0m\u001b[0m\n\u001b[0m\u001b[1;32m   1207\u001b[0m \u001b[0;34m\u001b[0m\u001b[0m\n\u001b[1;32m   1208\u001b[0m     \u001b[0;31m# enforce a threading backend to prevent data communication overhead\u001b[0m\u001b[0;34m\u001b[0m\u001b[0;34m\u001b[0m\u001b[0;34m\u001b[0m\u001b[0m\n",
      "\u001b[0;32m~/anaconda3/lib/python3.7/site-packages/sklearn/metrics/pairwise.py\u001b[0m in \u001b[0;36m_pairwise_callable\u001b[0;34m(X, Y, metric, **kwds)\u001b[0m\n\u001b[1;32m   1231\u001b[0m         \u001b[0miterator\u001b[0m \u001b[0;34m=\u001b[0m \u001b[0mitertools\u001b[0m\u001b[0;34m.\u001b[0m\u001b[0mcombinations\u001b[0m\u001b[0;34m(\u001b[0m\u001b[0mrange\u001b[0m\u001b[0;34m(\u001b[0m\u001b[0mX\u001b[0m\u001b[0;34m.\u001b[0m\u001b[0mshape\u001b[0m\u001b[0;34m[\u001b[0m\u001b[0;36m0\u001b[0m\u001b[0;34m]\u001b[0m\u001b[0;34m)\u001b[0m\u001b[0;34m,\u001b[0m \u001b[0;36m2\u001b[0m\u001b[0;34m)\u001b[0m\u001b[0;34m\u001b[0m\u001b[0;34m\u001b[0m\u001b[0m\n\u001b[1;32m   1232\u001b[0m         \u001b[0;32mfor\u001b[0m \u001b[0mi\u001b[0m\u001b[0;34m,\u001b[0m \u001b[0mj\u001b[0m \u001b[0;32min\u001b[0m \u001b[0miterator\u001b[0m\u001b[0;34m:\u001b[0m\u001b[0;34m\u001b[0m\u001b[0;34m\u001b[0m\u001b[0m\n\u001b[0;32m-> 1233\u001b[0;31m             \u001b[0mout\u001b[0m\u001b[0;34m[\u001b[0m\u001b[0mi\u001b[0m\u001b[0;34m,\u001b[0m \u001b[0mj\u001b[0m\u001b[0;34m]\u001b[0m \u001b[0;34m=\u001b[0m \u001b[0mmetric\u001b[0m\u001b[0;34m(\u001b[0m\u001b[0mX\u001b[0m\u001b[0;34m[\u001b[0m\u001b[0mi\u001b[0m\u001b[0;34m]\u001b[0m\u001b[0;34m,\u001b[0m \u001b[0mY\u001b[0m\u001b[0;34m[\u001b[0m\u001b[0mj\u001b[0m\u001b[0;34m]\u001b[0m\u001b[0;34m,\u001b[0m \u001b[0;34m**\u001b[0m\u001b[0mkwds\u001b[0m\u001b[0;34m)\u001b[0m\u001b[0;34m\u001b[0m\u001b[0;34m\u001b[0m\u001b[0m\n\u001b[0m\u001b[1;32m   1234\u001b[0m \u001b[0;34m\u001b[0m\u001b[0m\n\u001b[1;32m   1235\u001b[0m         \u001b[0;31m# Make symmetric\u001b[0m\u001b[0;34m\u001b[0m\u001b[0;34m\u001b[0m\u001b[0;34m\u001b[0m\u001b[0m\n",
      "\u001b[0;31mKeyboardInterrupt\u001b[0m: "
     ]
    }
   ],
   "source": [
    "# calculate feature weights\n",
    "feature_weights_old = return_weights(X_pressure_normalized, beta, d)\n",
    "print(f\"feature weights = {feature_weights}\")"
   ]
  },
  {
   "cell_type": "code",
   "execution_count": 48,
   "metadata": {},
   "outputs": [],
   "source": [
    "feature_weights_old = np.array([[2.051e-05, 7.674e-05, 0.000e+00, 4.943e-01, 4.402e-02, 0.000e+00, 0.000e+00, 0.000e+00, 5.294e-06, 6.468e-07, 1.387e-08, 3.641e-08, 3.764e-04, 3.261e-04, 6.491e-04, 9.369e-06, 4.375e-04, 1.261e-03, 6.665e-04, 1.139e-03, 9.320e-04, 8.393e-04, 1.150e-03, 4.090e-03, 1.345e-08, 0.000e+00,\n",
    "        0.000e+00, 0.000e+00, 7.715e-05, 4.210e-04, 3.659e-04, 3.254e-02, 2.450e-02, 7.568e-05, 3.557e-02, 5.245e-06, 0.000e+00, 0.000e+00, 1.074e-05, 1.906e-05, 5.441e-06, 3.657e-05, 5.741e-04, 1.991e-06, 9.673e-08, 4.837e-06, 0.000e+00, 1.472e-07, 0.000e+00, 6.554e-04, 1.002e-03, 2.115e-10,\n",
    "        0.000e+00, 2.495e-12, 6.435e-08, 6.990e-11, 8.070e-05, 4.605e-06, 5.166e-05, 1.304e-03, 5.727e-06, 1.764e-03, 5.702e-12, 2.109e-12, 4.572e-07, 2.206e-08, 0.000e+00, 9.340e-07, 2.962e-05, 0.000e+00, 3.136e-05, 0.000e+00, 0.000e+00, 1.152e-06, 8.196e-07, 0.000e+00, 1.023e-04, 2.467e-05,\n",
    "        1.220e-04, 1.485e-04, 3.245e-05, 0.000e+00, 0.000e+00, 7.962e-03, 1.327e-02, 2.847e-04, 2.096e-07, 5.443e-02, 4.702e-12, 8.280e-04, 1.485e-03, 2.596e-03, 4.643e-03, 1.002e-02, 1.101e-03, 5.006e-09, 5.006e-09, 8.164e-05, 3.763e-08, 1.089e-05, 3.002e-05, 0.000e+00, 3.583e-02, 2.100e-06,\n",
    "        5.579e-04, 0.000e+00, 0.000e+00, 0.000e+00, 0.000e+00, 0.000e+00, 1.718e-04, 6.703e-04, 1.651e-03, 2.876e-05, 1.357e-04, 6.319e-04, 8.934e-04, 1.343e-03, 6.772e-03, 2.068e-04, 1.799e-04, 4.731e-05, 2.737e-04, 1.341e-06, 4.808e-06, 5.641e-08, 4.765e-06, 4.200e-05, 2.325e-06, 1.238e-05,\n",
    "        0.000e+00, 0.000e+00, 0.000e+00, 3.806e-15, 2.266e-12, 0.000e+00, 0.000e+00, 0.000e+00, 4.726e-04, 5.378e-03, 2.194e-03, 4.938e-07, 5.203e-07, 9.113e-08, 0.000e+00, 0.000e+00, 1.081e-09, 0.000e+00, 2.018e-07, 4.572e-01, 4.073e-02, 0.000e+00, 5.091e-03, 5.190e-01, 7.437e-06, 0.000e+00,\n",
    "        0.000e+00, 0.000e+00, 1.540e-02, 1.653e-02, 1.853e-06, 3.667e-04, 0.000e+00, 4.869e-04, 1.048e-04, 0.000e+00, 0.000e+00, 0.000e+00, 5.289e-13, 4.615e-14, 2.583e-05, 1.975e-13, 0.000e+00, 0.000e+00, 5.107e-05, 6.924e-12, 0.000e+00, 0.000e+00, 1.794e-04, 5.139e-03, 5.446e-03, 3.645e-09,\n",
    "        9.194e-06, 2.804e-03, 4.351e-03, 1.060e-04, 1.347e-02, 5.848e-05, 1.207e-05, 5.636e-04, 6.699e-05, 7.989e-04, 6.283e-04, 8.739e-09, 1.140e-03, 7.720e-08, 1.749e-07, 8.413e-11, 1.221e-07, 8.247e-08, 2.253e-10, 5.854e-09, 9.503e-10, 1.163e-06, 6.998e-06, 7.021e-06, 2.151e-06, 0.000e+00,\n",
    "        1.888e-03, 0.000e+00, 0.000e+00, 6.786e-03, 7.693e-08, 1.004e-09, 1.950e-04, 3.790e-09, 1.103e-04, 9.629e-08, 4.517e-08, 3.428e-07, 5.296e-07, 4.756e-18, 4.969e-03, 1.719e-11, 1.513e-04, 3.415e-12, 1.096e-03, 1.981e-06, 8.281e-09, 1.444e-03, 9.610e-03, 1.151e-02, 6.254e-03, 6.575e-03,\n",
    "        2.466e-04, 1.473e-02, 3.506e-02, 2.158e-04, 3.257e-02, 3.533e-02, 3.443e-02, 6.357e-05, 3.630e-02, 3.332e-03, 1.313e-04, 0.000e+00, 0.000e+00, 1.152e-06, 3.140e-05, 2.095e-17, 9.312e-19, 8.082e-05, 4.279e-11, 4.155e-09, 4.291e-11, 5.009e-06, 1.788e-04, 3.330e-04, 3.014e-04, 0.000e+00,\n",
    "        7.511e-04, 8.682e-04, 2.815e-04, 2.519e-04, 4.457e-04, 1.641e-04, 5.609e-04, 1.863e-13, 0.000e+00, 1.915e-07, 1.492e-13, 4.853e-08, 6.310e-21, 2.693e-09, 1.313e-09, 2.929e-08, 5.506e-14, 0.000e+00, 0.000e+00, 0.000e+00, 3.417e-08, 0.000e+00, 0.000e+00, 0.000e+00, 6.710e-03, 2.177e-02,\n",
    "        2.718e-02, 2.536e-02, 1.973e-02, 2.927e-02, 2.927e-02, 3.952e-03, 7.519e-03, 3.829e-05, 2.125e-03, 9.483e-04, 5.437e-02, 5.441e-02, 3.327e-03, 4.074e-03, 5.439e-02, 5.437e-02, 5.438e-02, 4.776e-03, 5.442e-02, 6.611e-03, 5.437e-02, 2.101e-09, 0.000e+00, 6.378e-04, 3.041e-06, 1.201e-06,\n",
    "        3.594e-07, 4.159e-05, 1.468e-04, 1.042e-06, 0.000e+00, 0.000e+00, 0.000e+00, 0.000e+00, 2.397e-08, 0.000e+00, 5.830e-06, 0.000e+00, 0.000e+00, 0.000e+00, 0.000e+00, 0.000e+00, 0.000e+00, 0.000e+00, 0.000e+00, 0.000e+00, 0.000e+00, 0.000e+00, 0.000e+00, 7.287e-15, 1.845e-05, 1.594e-05,\n",
    "        6.526e-09, 4.630e-06, 2.850e-03, 4.233e-04, 5.428e-03, 2.620e-09, 6.282e-08, 0.000e+00, 1.100e-05, 0.000e+00, 5.418e-02, 5.443e-02, 2.143e-03, 7.026e-03, 9.498e-03, 5.437e-02, 5.440e-02, 5.416e-02, 2.278e-05, 2.758e-02, 2.257e-05, 5.443e-02, 5.443e-02, 2.867e-02, 2.406e-02, 1.389e-03,\n",
    "         1.126e-05, 3.300e-03, 0.000e+00, 0.000e+00, 0.000e+00, 5.135e-02, 5.135e-02, 5.195e-02, 0.000e+00, 0.000e+00, 0.000e+00, 0.000e+00, 4.959e-01, 0.000e+00, 0.000e+00, 0.000e+00, 0.000e+00, 0.000e+00, 1.000e+00, 9.176e-01, 0.000e+00, 0.000e+00, 0.000e+00, 0.000e+00]])\n",
    "\n",
    "\n",
    "\n",
    "feature_weights = np.array([[7.006e-02, 1.239e-02, 1.295e-03, 1.015e-06, 1.064e-05, 9.726e-11, 5.631e-08, 1.028e-05, 7.392e-03, 1.356e-04, 1.000e+00, 4.220e-01, 6.135e-06, 3.336e-08, 2.856e-05, 2.248e-07, 2.248e-04, 2.577e-08, 2.901e-17, 9.228e-18, 0.000e+00, 3.482e-19, 4.279e-11, 5.319e-08, 1.145e-06, 1.452e-06,\n",
    "        2.473e-07, 2.519e-06, 1.115e-12, 9.892e-06, 6.671e-03, 5.373e-02, 3.051e-13, 8.733e-04, 2.504e-07, 3.066e-05, 3.679e-04, 1.066e-04, 8.009e-04, 1.427e-06, 2.752e-04, 1.126e-02, 4.278e-02, 6.396e-04, 3.025e-01, 1.715e-07, 1.971e-07, 2.907e-07, 5.235e-05, 1.515e-07, 4.012e-22, 0.000e+00,\n",
    "        4.194e-18, 1.162e-17, 3.413e-10, 1.306e-07, 1.311e-04, 1.452e-17, 0.000e+00, 5.894e-07, 8.125e-05, 4.492e-05, 8.088e-06, 1.457e-03, 6.696e-06, 1.107e-08, 9.982e-10, 1.161e-19, 8.379e-05, 6.682e-06, 8.720e-12, 2.286e-10, 2.994e-04, 1.562e-08, 1.497e-06, 7.372e-08, 6.450e-16, 1.522e-10,\n",
    "        4.665e-06, 4.285e-11, 2.014e-08, 8.222e-10, 4.439e-06, 5.646e-07, 4.431e-04, 8.164e-03, 2.455e-03, 5.587e-02, 3.699e-01, 2.438e-02, 1.485e-06, 1.692e-01, 6.619e-14, 3.717e-06, 5.639e-03, 5.059e-04, 2.696e-02, 5.524e-03, 9.194e-03, 3.271e-14, 2.529e-12, 1.360e-05, 0.000e+00, 2.371e-31,\n",
    "        9.524e-15, 1.875e-15, 1.591e-06, 3.818e-05, 1.001e-12, 1.544e-12, 3.200e-18, 1.004e-07, 2.462e-08, 7.636e-07, 1.045e-07, 4.783e-17, 4.301e-41, 0.000e+00, 0.000e+00, 6.619e-10, 6.189e-06, 5.691e-05, 8.290e-10, 7.864e-14, 5.343e-10, 6.880e-14, 1.445e-07, 2.882e-07, 2.819e-01, 6.417e-05,\n",
    "        1.243e-09, 1.161e-07, 8.073e-06, 1.391e-06, 2.149e-06, 9.572e-05, 1.301e-06, 7.710e-02, 7.950e-02, 6.744e-06, 7.477e-04, 3.995e-07, 2.458e-12, 3.235e-04, 2.443e-02, 1.554e-04, 1.180e-04, 3.741e-07, 6.158e-10, 2.077e-04, 1.274e-04, 0.000e+00, 0.000e+00, 4.459e-14, 6.582e-10, 2.948e-06,\n",
    "        1.979e-04, 1.577e-03, 5.469e-03, 3.424e-04, 8.180e-06, 8.825e-08, 3.372e-19, 0.000e+00, 9.382e-15, 4.294e-20, 0.000e+00, 1.168e-14, 5.648e-05]])"
   ]
  },
  {
   "cell_type": "code",
   "execution_count": 49,
   "metadata": {},
   "outputs": [],
   "source": [
    "# calculate the weighted distance matrix\n",
    "weighted_distance = pairwise_distances(X_pressure_normalized.T, X_pressure_normalized.T, metric=weighted_euclidean, **{'weights': feature_weights})\n",
    "weighted_distance_old = pairwise_distances(X_pressure_normalized, X_pressure_normalized, metric=weighted_euclidean, **{'weights': feature_weights_old})"
   ]
  },
  {
   "cell_type": "code",
   "execution_count": 51,
   "metadata": {},
   "outputs": [
    {
     "data": {
      "text/plain": [
       "(169, 169)"
      ]
     },
     "execution_count": 51,
     "metadata": {},
     "output_type": "execute_result"
    }
   ],
   "source": [
    "weighted_distance_old.shape"
   ]
  },
  {
   "cell_type": "markdown",
   "metadata": {},
   "source": [
    "# Clustering Method"
   ]
  },
  {
   "cell_type": "markdown",
   "metadata": {},
   "source": [
    "## Soft Clustering"
   ]
  },
  {
   "cell_type": "markdown",
   "metadata": {},
   "source": [
    "Soft Clustering means to the U matrix shown in the following has the each entry between 0 and 1, i.e. it is a probability to show if each sample belongs to each cluster. But hard clustering means the entry has only zero or one, no middle value."
   ]
  },
  {
   "cell_type": "markdown",
   "metadata": {},
   "source": [
    "### Fuzzy C Means"
   ]
  },
  {
   "cell_type": "markdown",
   "metadata": {},
   "source": [
    "Good Interpretation here : https://home.deib.polimi.it/matteucc/Clustering/tutorial_html/cmeans.html\n",
    "\n",
    "\n",
    "Each element inside models_FCM has the data type [cntr,u, u0, d, jm, p, fpc]\n",
    "\n",
    "-------\n",
    "    cntr : 2d array, size (S, c)\n",
    "        Cluster centers.  Data for each center along each feature provided\n",
    "        for every cluster (of the `c` requested clusters).\n",
    "    u : 2d array, (S, N)\n",
    "        Final fuzzy c-partitioned matrix.\n",
    "    u0 : 2d array, (S, N)\n",
    "        Initial guess at fuzzy c-partitioned matrix (either provided init or\n",
    "        random guess used if init was not provided).\n",
    "    d : 2d array, (S, N)\n",
    "        Final Euclidian distance matrix.\n",
    "    jm : 1d array, length P\n",
    "        Objective function history.\n",
    "    p : int\n",
    "        Number of iterations run.\n",
    "    fpc : float\n",
    "        Final fuzzy partition coefficient.\n",
    "\n",
    "\n",
    "\"u\": the fuzzy c-partitioned matrix has the shape:\n",
    "\n",
    "$$U = \\begin{bmatrix}\n",
    " & X_1 & X_2 & \\dots & X_c\\\\\n",
    "cluster_1 & u_{1,1} & u_{1,2} & \\dots & u_{1,c}\\\\\n",
    "cluster_2 & u_{2,1} & u_{2,2} & \\dots & u_{2,c}\\\\\n",
    "\\vdots & \\vdots  & \\vdots & \\vdots & \\vdots\\\\\n",
    "cluster_n & u_{n,1} & u_{n,2} & \\dots & u_{n,n}\n",
    "\\end{bmatrix}$$\n",
    " \n",
    " where $X_n$ is the n-th sample in data set and $u_{i,j} \\in [0, 1]$ is the membership degree indicating with what degree the sample $X_n$ belongs to the cluster center vector $v_c$ \n",
    "\n",
    "\n",
    "Before applying the FCM into data set we need to predefine the parameter m. This can be done by evaluating the CVIs (Cluster Validity Indices):\n",
    "\n",
    "(1) Xie - Beni Function\n",
    "\n",
    "(2) Partition Coefficient (PC)\n",
    "\n",
    "(3) Fukuyama-Sugeno Index (FS)\n",
    "\n",
    "\n",
    "Basically all the evaluation function, either the forementioned three or silhouette, davies bouldin etc., they have the same concept which is a good clustering result means a large distance among cluster centroids and smaller distance between centroids and the samples within the same clsuter"
   ]
  },
  {
   "cell_type": "code",
   "execution_count": 52,
   "metadata": {},
   "outputs": [],
   "source": [
    "# define CVI functions\n",
    "def pairwise_squared_distances(X, V):\n",
    "    return scipy.spatial.distance.cdist(X, V)**2\n",
    "\n",
    "def xb(X,U,V,m):\n",
    "    \"\"\"\n",
    "    X: data set, (n_samples, n_dimensions)\n",
    "    U: membership matrix, (n_clusters, n_samples)\n",
    "    V: central point matrix, (n_clusters, n_dimensions)\n",
    "    the smaller xb, the better the result, because xb equals\n",
    "    distance between centroid and samples\n",
    "    within cluster divided by the distance among all centroids\n",
    "    \"\"\"\n",
    "    c = U.shape[0]\n",
    "    n = X.shape[0]\n",
    "    numerator = 0\n",
    "    \n",
    "    for i in range(c):\n",
    "        for j in range(n):\n",
    "            numerator += (U[i,j]**2) * np.sum((X[j, :] - V[i, :])**2)\n",
    "    distance_to_central = pairwise_squared_distances(X, V)\n",
    "    \n",
    "    \n",
    "    central_vector_distance = pairwise_squared_distances(V,V)\n",
    "    central_vector_distance[central_vector_distance==0] = np.inf\n",
    "    \n",
    "    dominator = n * np.min(central_vector_distance)\n",
    "    return numerator/dominator\n",
    "\n",
    "\n",
    "def xb_new(x, u, v):\n",
    "    n = x.shape[0]\n",
    "    c = v.shape[0]\n",
    "\n",
    "    um = u**2\n",
    "    \n",
    "    d2 = pairwise_squared_distances(x, v)\n",
    "    v2 = pairwise_squared_distances(v, v)\n",
    "    \n",
    "    v2[v2 == 0.0] = np.inf\n",
    "\n",
    "    return np.sum(um.T*d2)/(n*np.min(v2))\n",
    "\n",
    "def pc(U):\n",
    "    return np.sum(np.square(U)/U.shape[1])\n",
    "\n",
    "\n",
    "def pe(U):\n",
    "    c = U.shape[0]\n",
    "    n = U.shape[1]\n",
    "    summe = 0\n",
    "    for i in range(c):\n",
    "        for j in range(n):\n",
    "            summe += U[i, j]*np.log(U[i,j])\n",
    "    return -(1/n)*summe\n",
    "\n",
    "\n",
    "def fs(X, U, V):\n",
    "    \"\"\"\n",
    "    this function first calculate the mean centroids among all the centroids of clusters.\n",
    "    Then calculate:\n",
    "    the euclidean norm between one centroids and all the\n",
    "    samples substract the norm of corresponding centroid and mean centroids\n",
    "    \n",
    "    \"\"\"\n",
    "    n = X.shape[0]\n",
    "    c = V.shape[0]\n",
    "\n",
    "    u2 = U**2\n",
    "\n",
    "    v_mean = V.mean(axis=0)\n",
    "\n",
    "    d2 = pairwise_squared_distances(X, V) # 388,20\n",
    "    \n",
    "    distance_v_mean_squared = (np.linalg.norm(V - v_mean, axis=1)**2).reshape(-1,1)\n",
    "\n",
    "    return np.sum(u2.T*d2) - np.sum(u2*distance_v_mean_squared)"
   ]
  },
  {
   "cell_type": "markdown",
   "metadata": {},
   "source": [
    "Find the best m first. Because FCM is sensitive to initial points selection. So run each m 50 times and then choose the average value."
   ]
  },
  {
   "cell_type": "code",
   "execution_count": 61,
   "metadata": {},
   "outputs": [],
   "source": [
    "# define a m list, m must be greater than 1\n",
    "m_list = np.arange(1.1,3.1,0.1)\n",
    "# define a certain number of cluster list\n",
    "n_cluster_fcm = np.arange(2, 101, 1)\n",
    "\n",
    "# combination of m_list and n_cluster_fcm\n",
    "combi_1 = list(itertools.product(m_list, n_cluster_fcm))"
   ]
  },
  {
   "cell_type": "code",
   "execution_count": 64,
   "metadata": {},
   "outputs": [
    {
     "name": "stdout",
     "output_type": "stream",
     "text": [
      "starts...\n"
     ]
    },
    {
     "ename": "KeyboardInterrupt",
     "evalue": "",
     "output_type": "error",
     "traceback": [
      "\u001b[0;31m---------------------------------------------------------------------------\u001b[0m",
      "\u001b[0;31mKeyboardInterrupt\u001b[0m                         Traceback (most recent call last)",
      "\u001b[0;32m<ipython-input-64-6cd4eec20986>\u001b[0m in \u001b[0;36m<module>\u001b[0;34m\u001b[0m\n\u001b[1;32m     20\u001b[0m \u001b[0;34m\u001b[0m\u001b[0m\n\u001b[1;32m     21\u001b[0m         \u001b[0mpc_sum\u001b[0m \u001b[0;34m+=\u001b[0m \u001b[0mpc\u001b[0m\u001b[0;34m(\u001b[0m\u001b[0mfpm\u001b[0m\u001b[0;34m)\u001b[0m\u001b[0;34m\u001b[0m\u001b[0;34m\u001b[0m\u001b[0m\n\u001b[0;32m---> 22\u001b[0;31m         \u001b[0mpe_sum\u001b[0m \u001b[0;34m+=\u001b[0m \u001b[0mpe\u001b[0m\u001b[0;34m(\u001b[0m\u001b[0mfpm\u001b[0m\u001b[0;34m)\u001b[0m\u001b[0;34m\u001b[0m\u001b[0;34m\u001b[0m\u001b[0m\n\u001b[0m\u001b[1;32m     23\u001b[0m         \u001b[0mfs_sum\u001b[0m \u001b[0;34m+=\u001b[0m \u001b[0mfs\u001b[0m\u001b[0;34m(\u001b[0m\u001b[0mX_pressure_normalized\u001b[0m\u001b[0;34m.\u001b[0m\u001b[0mT\u001b[0m\u001b[0;34m,\u001b[0m \u001b[0mfpm\u001b[0m\u001b[0;34m,\u001b[0m \u001b[0mcvm\u001b[0m\u001b[0;34m)\u001b[0m\u001b[0;34m\u001b[0m\u001b[0;34m\u001b[0m\u001b[0m\n\u001b[1;32m     24\u001b[0m         \u001b[0mxb_sum\u001b[0m \u001b[0;34m+=\u001b[0m \u001b[0mxb_new\u001b[0m\u001b[0;34m(\u001b[0m\u001b[0mX_pressure_normalized\u001b[0m\u001b[0;34m.\u001b[0m\u001b[0mT\u001b[0m\u001b[0;34m,\u001b[0m \u001b[0mfpm\u001b[0m\u001b[0;34m,\u001b[0m \u001b[0mcvm\u001b[0m\u001b[0;34m)\u001b[0m\u001b[0;34m\u001b[0m\u001b[0;34m\u001b[0m\u001b[0m\n",
      "\u001b[0;32m<ipython-input-52-660ba3189f7b>\u001b[0m in \u001b[0;36mpe\u001b[0;34m(U)\u001b[0m\n\u001b[1;32m     52\u001b[0m     \u001b[0;32mfor\u001b[0m \u001b[0mi\u001b[0m \u001b[0;32min\u001b[0m \u001b[0mrange\u001b[0m\u001b[0;34m(\u001b[0m\u001b[0mc\u001b[0m\u001b[0;34m)\u001b[0m\u001b[0;34m:\u001b[0m\u001b[0;34m\u001b[0m\u001b[0;34m\u001b[0m\u001b[0m\n\u001b[1;32m     53\u001b[0m         \u001b[0;32mfor\u001b[0m \u001b[0mj\u001b[0m \u001b[0;32min\u001b[0m \u001b[0mrange\u001b[0m\u001b[0;34m(\u001b[0m\u001b[0mn\u001b[0m\u001b[0;34m)\u001b[0m\u001b[0;34m:\u001b[0m\u001b[0;34m\u001b[0m\u001b[0;34m\u001b[0m\u001b[0m\n\u001b[0;32m---> 54\u001b[0;31m             \u001b[0msumme\u001b[0m \u001b[0;34m+=\u001b[0m \u001b[0mU\u001b[0m\u001b[0;34m[\u001b[0m\u001b[0mi\u001b[0m\u001b[0;34m,\u001b[0m \u001b[0mj\u001b[0m\u001b[0;34m]\u001b[0m\u001b[0;34m*\u001b[0m\u001b[0mnp\u001b[0m\u001b[0;34m.\u001b[0m\u001b[0mlog\u001b[0m\u001b[0;34m(\u001b[0m\u001b[0mU\u001b[0m\u001b[0;34m[\u001b[0m\u001b[0mi\u001b[0m\u001b[0;34m,\u001b[0m\u001b[0mj\u001b[0m\u001b[0;34m]\u001b[0m\u001b[0;34m)\u001b[0m\u001b[0;34m\u001b[0m\u001b[0;34m\u001b[0m\u001b[0m\n\u001b[0m\u001b[1;32m     55\u001b[0m     \u001b[0;32mreturn\u001b[0m \u001b[0;34m-\u001b[0m\u001b[0;34m(\u001b[0m\u001b[0;36m1\u001b[0m\u001b[0;34m/\u001b[0m\u001b[0mn\u001b[0m\u001b[0;34m)\u001b[0m\u001b[0;34m*\u001b[0m\u001b[0msumme\u001b[0m\u001b[0;34m\u001b[0m\u001b[0;34m\u001b[0m\u001b[0m\n\u001b[1;32m     56\u001b[0m \u001b[0;34m\u001b[0m\u001b[0m\n",
      "\u001b[0;31mKeyboardInterrupt\u001b[0m: "
     ]
    }
   ],
   "source": [
    "# apply FCM to get the partition matrix, we choose n_cluster equals 20\n",
    "pc_score = []\n",
    "pe_score = []\n",
    "fs_score = []\n",
    "xb_score = []\n",
    "\n",
    "print(\"starts...\")\n",
    "for m, n_cluster in combi_1:\n",
    "    pc_sum=0\n",
    "    pe_sum=0\n",
    "    fs_sum=0\n",
    "    xb_sum=0\n",
    "    for i in range(20):\n",
    "        # run cmeans 20 times\n",
    "        result_FCM = cmeans(X_pressure_normalized, m = m, c=n_cluster, error = 0.0005, maxiter=1000)\n",
    "        # fuzzy partition matrix\n",
    "        fpm = result_FCM[1]\n",
    "        # center vector matrix\n",
    "        cvm = result_FCM[0]\n",
    "\n",
    "        pc_sum += pc(fpm)\n",
    "        pe_sum += pe(fpm)\n",
    "        fs_sum += fs(X_pressure_normalized.T, fpm, cvm)\n",
    "        xb_sum += xb_new(X_pressure_normalized.T, fpm, cvm)\n",
    "    pc_score.append(pc_sum/20)\n",
    "    pe_score.append(pe_sum/20)\n",
    "    fs_score.append(fs_sum/20)\n",
    "    xb_score.append(xb_sum/20)\n",
    "    if n_cluster%99 == 0:\n",
    "        print(f\"{n_cluster/99} finished\")\n",
    "\n",
    "print(\"evaluation finished\")"
   ]
  },
  {
   "cell_type": "code",
   "execution_count": null,
   "metadata": {},
   "outputs": [],
   "source": [
    "plt.figure(figsize=(10,10))\n",
    "plt.subplot(311)\n",
    "plt.title(\"CVIs\")\n",
    "plt.plot(m_list, pc_score, \"g-\", label=\"pc_score, larger, better\")\n",
    "plt.plot(m_list, pe_score, \"b-\", label=\"pe_score, smaller, better\")\n",
    "plt.xlabel(\"m_list\")\n",
    "plt.ylabel(\"score\")\n",
    "plt.legend(loc=\"best\")\n",
    "\n",
    "plt.subplot(312)\n",
    "plt.plot(m_list, fs_score, \"r-\", label=\"fs_score\")\n",
    "plt.xlabel(\"m_list\")\n",
    "plt.ylabel(\"score (smaller better)\")\n",
    "plt.legend(loc=\"best\")\n",
    "\n",
    "plt.subplot(313)\n",
    "plt.plot(m_list, xb_score, \"y-\", label=\"xb_score\")\n",
    "plt.xlabel(\"m_list\")\n",
    "plt.ylabel(\"score(smaller better)\")\n",
    "plt.legend(loc=\"best\")\n",
    "\n",
    "fig.tight_layout()\n",
    "plt.show()"
   ]
  },
  {
   "cell_type": "markdown",
   "metadata": {},
   "source": [
    "Choose $m = 1.4$ and then run cmeans with different cluster numbers. NOTE: cmeans takes data shape which differs from other clustering algorithm. It uses n_features, n_dimension"
   ]
  },
  {
   "cell_type": "code",
   "execution_count": null,
   "metadata": {},
   "outputs": [],
   "source": [
    "# models cmeans has different data input shape (feature, samples)\n",
    "models_FCM  = [cmeans(X_pressure_normalized, m=1.4, c=n_cluster, error=0.005, maxiter=1000) for n_cluster in n_cluster_list]"
   ]
  },
  {
   "cell_type": "code",
   "execution_count": null,
   "metadata": {},
   "outputs": [],
   "source": [
    "# Final fuzzy c-partitioned matrix \"u\", has shape(169, n)\n",
    "# n means the number of clusters\n",
    "# 169 are the samples in data set\n",
    "# each row the probability of these samples belongs to which cluster\n",
    "# will be given\n",
    "\n",
    "partitoned_matrices = [model_FCM[1] for model_FCM in models_FCM]\n",
    "\n",
    "# get the labels\n",
    "labels_FCM = [np.argmax(partitioned_matrix, axis = 0) for partitioned_matrix in partitoned_matrices]"
   ]
  },
  {
   "cell_type": "code",
   "execution_count": null,
   "metadata": {},
   "outputs": [],
   "source": [
    "# evaluate the algorithm\n",
    "FCM_silhouette_score = [silhouette_score(X_pressure_normalized.T, label) for label in labels_FCM]\n",
    "FCM_davies_score = [davies_bouldin_score(X_pressure_normalized.T, label) for label in labels_FCM]\n",
    "FCM_calinski_score = [calinski_harabasz_score(X_pressure_normalized.T, label) for label in labels_FCM]\n",
    "FCM_fpc = [model_FCM[-1] for model_FCM in models_FCM]"
   ]
  },
  {
   "cell_type": "code",
   "execution_count": null,
   "metadata": {},
   "outputs": [],
   "source": [
    "# plot the result\n",
    "plt.figure(figsize=(10,15))\n",
    "\n",
    "plt.subplot(411)\n",
    "plt.title(\"result of FCM clustering method\")\n",
    "plt.plot(n_cluster_list, FCM_silhouette_score, \"r-\", label = \"silhouette score\")\n",
    "plt.xlabel(\"number of clusters\")\n",
    "plt.ylabel(\"silhouette score (closer to 1, better)\")\n",
    "plt.grid(True)\n",
    "\n",
    "plt.subplot(412)\n",
    "plt.plot(n_cluster_list, FCM_davies_score, \"g-\", label = \"davies_bouldin_score\")\n",
    "plt.xlabel(\"number of clusters\")\n",
    "plt.ylabel(\"davies bouldin score (smaller, better)\")\n",
    "plt.grid(True)\n",
    "\n",
    "plt.subplot(413)\n",
    "plt.plot(n_cluster_list, FCM_calinski_score, \"b-\", label = \"calinski_harabasz_score\")\n",
    "plt.xlabel(\"number of clusters\")\n",
    "plt.ylabel(\"calinski score (larger, better)\")\n",
    "plt.grid(True)\n",
    "\n",
    "plt.subplot(414)\n",
    "plt.plot(n_cluster_list, FCM_fpc, \"y-\", label = \"fpc_score\")\n",
    "plt.xlabel(\"number of clusters\")\n",
    "plt.ylabel(\"fpc score (0 to 1, closer to 1, better)\")\n",
    "plt.grid(True)\n",
    "\n",
    "fig.tight_layout()\n",
    "plt.show()"
   ]
  },
  {
   "cell_type": "code",
   "execution_count": null,
   "metadata": {},
   "outputs": [],
   "source": [
    "# find the best n_cluster_fcm\n",
    "n_cluster_fcm = np.argmax(FCM_silhouette_score) + 2\n",
    "n_cluster_fcm"
   ]
  },
  {
   "cell_type": "markdown",
   "metadata": {},
   "source": [
    "#### Visualization in C Town"
   ]
  },
  {
   "cell_type": "code",
   "execution_count": null,
   "metadata": {},
   "outputs": [],
   "source": [
    "press_cluster_labels_fcm = pd.DataFrame(labels_FCM[22].reshape(1,-1), columns=junction_names, index=['pressure_cluster'])\n",
    "press_cluster_labels_fcm"
   ]
  },
  {
   "cell_type": "code",
   "execution_count": null,
   "metadata": {},
   "outputs": [],
   "source": [
    "plot_result(X_pressure, ctown.wn, n_cluster_fcm, n_junctions, press_cluster_labels_fcm, \"Fuzzy C Means\", plot_individual=False)"
   ]
  },
  {
   "cell_type": "markdown",
   "metadata": {},
   "source": [
    "Apply Feature Weight Learning in Fuzzy C means Algorithm"
   ]
  },
  {
   "cell_type": "code",
   "execution_count": null,
   "metadata": {},
   "outputs": [],
   "source": [
    "# define models\n",
    "n_cluster_wfcm = np.arange(2, 51, 1)\n",
    "weighted_FCMs = [WFCM.c_means(c=n_cluster, m=1.4, max_iter = 1000, threshold = .001) for n_cluster in n_cluster_wfcm]"
   ]
  },
  {
   "cell_type": "code",
   "execution_count": null,
   "metadata": {},
   "outputs": [],
   "source": [
    "# calculate the results\n",
    "results_weighted_FCMs = []\n",
    "for weighted_FCM in tqdm(weighted_FCMs):\n",
    "    results_weighted_FCMs.append(weighted_FCM.fit(X_pressure_normalized.T, feature_weights))\n",
    "    \n",
    "#results_weighted_FCMs = [weighted_FCM.fit(X_pressure_normalized.T, feature_weights) for weighted_FCM in weighted_FCMs]"
   ]
  },
  {
   "cell_type": "code",
   "execution_count": null,
   "metadata": {},
   "outputs": [],
   "source": [
    "# get the cluster labels\n",
    "weighted_FCM_labels = [np.argmax(weighted_FCM.fuzzy_partition, axis = 1) for weighted_FCM in weighted_FCMs]"
   ]
  },
  {
   "cell_type": "code",
   "execution_count": null,
   "metadata": {},
   "outputs": [],
   "source": [
    "# evaluate the result\n",
    "weighted_FCM_silhouette_score = [silhouette_score(X_pressure_normalized.T, label) for label in weighted_FCM_labels]\n",
    "weighted_FCM_davies_score = [davies_bouldin_score(X_pressure_normalized.T, label) for label in weighted_FCM_labels]\n",
    "weighted_FCM_calinski_score = [calinski_harabasz_score(X_pressure_normalized.T, label) for label in weighted_FCM_labels]\n",
    "weighted_FCM_fpc = [weighted_FCM.f_p_coeff for weighted_FCM in weighted_FCMs]"
   ]
  },
  {
   "cell_type": "code",
   "execution_count": null,
   "metadata": {},
   "outputs": [],
   "source": [
    "# plot the score\n",
    "plt.figure(figsize=(10,15))\n",
    "\n",
    "plt.subplot(411)\n",
    "plt.title(\"result of weighted FCM clustering method\")\n",
    "plt.plot(n_cluster_wfcm, weighted_FCM_silhouette_score, \"r-\", label = \"silhouette score\")\n",
    "plt.xlabel(\"number of clusters\")\n",
    "plt.ylabel(\"silhouette score (closer to 1, better)\")\n",
    "plt.grid(True)\n",
    "\n",
    "plt.subplot(412)\n",
    "plt.plot(n_cluster_wfcm, weighted_FCM_davies_score, \"g-\", label = \"davies_bouldin_score\")\n",
    "plt.xlabel(\"number of clusters\")\n",
    "plt.ylabel(\"davies bouldin score (smaller, better)\")\n",
    "plt.grid(True)\n",
    "\n",
    "plt.subplot(413)\n",
    "plt.plot(n_cluster_wfcm, weighted_FCM_calinski_score, \"b-\", label = \"calinski_harabasz_score\")\n",
    "plt.xlabel(\"number of clusters\")\n",
    "plt.ylabel(\"calinski score (larger, better)\")\n",
    "plt.grid(True)\n",
    "\n",
    "plt.subplot(414)\n",
    "plt.plot(n_cluster_wfcm, weighted_FCM_fpc, \"y-\", label = \"fpc_score\")\n",
    "plt.xlabel(\"number of clusters\")\n",
    "plt.ylabel(\"fpc score (0 to 1, closer to 1, better)\")\n",
    "plt.grid(True)\n",
    "\n",
    "fig.tight_layout()\n",
    "plt.show()"
   ]
  },
  {
   "cell_type": "markdown",
   "metadata": {},
   "source": [
    "#### Visualization in C Town"
   ]
  },
  {
   "cell_type": "code",
   "execution_count": null,
   "metadata": {},
   "outputs": [],
   "source": [
    "# find the best n_cluster_wfcm\n",
    "n_cluster_wfcm = np.argmax(FCM_silhouette_score[:30]) + 2\n",
    "n_cluster_wfcm"
   ]
  },
  {
   "cell_type": "code",
   "execution_count": null,
   "metadata": {},
   "outputs": [],
   "source": [
    "press_cluster_labels_wfcm = pd.DataFrame(weighted_FCM_labels[22].reshape(1,-1), columns=junction_names, index=['pressure_cluster'])\n",
    "press_cluster_labels_wfcm"
   ]
  },
  {
   "cell_type": "code",
   "execution_count": null,
   "metadata": {},
   "outputs": [],
   "source": [
    "plot_result(X_pressure, ctown.wn, n_cluster_wfcm, n_junctions, press_cluster_labels_wfcm, \"Weighted Fuzzy C Means\", plot_individual=False)"
   ]
  },
  {
   "cell_type": "markdown",
   "metadata": {},
   "source": [
    "## Hard Clustering"
   ]
  },
  {
   "cell_type": "markdown",
   "metadata": {},
   "source": []
  },
  {
   "cell_type": "markdown",
   "metadata": {},
   "source": [
    "### KMeans"
   ]
  },
  {
   "cell_type": "code",
   "execution_count": null,
   "metadata": {},
   "outputs": [],
   "source": [
    "# define a result dictionary\n",
    "# KMeans_dict = {\"n_component\":[KMeans.labels_]}\n",
    "\n",
    "KMeans_dict = dict()\n",
    "\n",
    "# define a list to store the sum \n",
    "# of squared distances of samples to their closest cluster center.\n",
    "sum_of_squared_distances = []\n",
    "\n",
    "# define a list to store the different clusters\n",
    "n_cluster_list = np.arange(2,101)\n",
    "\n",
    "X_pressure_normalized.shape"
   ]
  },
  {
   "cell_type": "code",
   "execution_count": null,
   "metadata": {},
   "outputs": [],
   "source": [
    "# models\n",
    "models_kmeans = [KMeans(n_clusters=n_cluster) for n_cluster in n_cluster_list]\n",
    "\n",
    "# result\n",
    "kmeans_result_labels = [model_kmeans.fit(X_pressure_normalized.T).labels_ for model_kmeans in models_kmeans]"
   ]
  },
  {
   "cell_type": "code",
   "execution_count": null,
   "metadata": {},
   "outputs": [],
   "source": [
    "print(\"the elements in each cluster (cluster = 20)\")\n",
    "np.bincount(kmeans_result_labels[17]+1)"
   ]
  },
  {
   "cell_type": "code",
   "execution_count": null,
   "metadata": {},
   "outputs": [],
   "source": [
    "# evaluate the result\n",
    "kmeans_silhouette_score = [silhouette_score(X_pressure_normalized.T, label) for label in kmeans_result_labels]\n",
    "kmeans_davies_score = [davies_bouldin_score(X_pressure_normalized.T, label) for label in kmeans_result_labels]\n",
    "kmeans_calinski_score = [calinski_harabasz_score(X_pressure_normalized.T, label) for label in kmeans_result_labels]"
   ]
  },
  {
   "cell_type": "markdown",
   "metadata": {},
   "source": [
    "Plot the result"
   ]
  },
  {
   "cell_type": "code",
   "execution_count": null,
   "metadata": {},
   "outputs": [],
   "source": [
    "# plot the result\n",
    "plt.figure(figsize=(8,10))\n",
    "\n",
    "plt.subplot(311)\n",
    "plt.title(\"result of kmeans clustering method\")\n",
    "plt.plot(n_cluster_list, kmeans_silhouette_score, \"r-\", label = \"silhouette score\")\n",
    "plt.xlabel(\"number of clusters\")\n",
    "plt.ylabel(\"silhouette score (closer to 1, better)\")\n",
    "plt.grid(True)\n",
    "\n",
    "plt.subplot(312)\n",
    "plt.plot(n_cluster_list, kmeans_davies_score, \"g-\", label = \"davies_bouldin_score\")\n",
    "plt.xlabel(\"number of clusters\")\n",
    "plt.ylabel(\"davies bouldin score (smaller, better)\")\n",
    "plt.grid(True)\n",
    "\n",
    "plt.subplot(313)\n",
    "plt.plot(n_cluster_list, kmeans_calinski_score, \"b-\", label = \"calinski_harabasz_score\")\n",
    "plt.xlabel(\"number of clusters\")\n",
    "plt.ylabel(\"calinski score (larger, better)\")\n",
    "plt.grid(True)\n",
    "\n",
    "fig.tight_layout()\n",
    "plt.show()"
   ]
  },
  {
   "cell_type": "code",
   "execution_count": null,
   "metadata": {},
   "outputs": [],
   "source": [
    "n_cluster_kmeans = np.argmax(kmeans_silhouette_score) + 2\n",
    "n_cluster_kmeans"
   ]
  },
  {
   "cell_type": "markdown",
   "metadata": {},
   "source": [
    "### Visualization"
   ]
  },
  {
   "cell_type": "markdown",
   "metadata": {},
   "source": [
    "KElbowVisualizer"
   ]
  },
  {
   "cell_type": "code",
   "execution_count": null,
   "metadata": {},
   "outputs": [],
   "source": [
    "model = KMeans()\n",
    "visualizer_silhouette = KElbowVisualizer(model, k=(2,101), metric=\"silhouette\")\n",
    "visualizer_silhouette.fit(X_pressure_normalized)\n",
    "visualizer_silhouette.show()"
   ]
  },
  {
   "cell_type": "code",
   "execution_count": null,
   "metadata": {},
   "outputs": [],
   "source": [
    "visualizer_calinski = KElbowVisualizer(model, k=(2,101), metric=\"calinski_harabasz\")\n",
    "visualizer_calinski.fit(X_pressure_normalized)\n",
    "visualizer_calinski.show()"
   ]
  },
  {
   "cell_type": "markdown",
   "metadata": {},
   "source": [
    "The scoring parameter metric is set to distortion, which computes the sum of squared distances from each point to its assigned center"
   ]
  },
  {
   "cell_type": "code",
   "execution_count": null,
   "metadata": {},
   "outputs": [],
   "source": [
    "visualizer_distortion = KElbowVisualizer(model, k=(2,101))\n",
    "visualizer_distortion.fit(X_pressure_normalized)\n",
    "visualizer_distortion.show()"
   ]
  },
  {
   "cell_type": "markdown",
   "metadata": {},
   "source": [
    "Silhouette Visualizer"
   ]
  },
  {
   "cell_type": "code",
   "execution_count": null,
   "metadata": {},
   "outputs": [],
   "source": [
    "silhouette_visualizer = [SilhouetteVisualizer(KMeans(n_clusters=n_cluster), colors='yellowbrick') for n_cluster in n_cluster_list]"
   ]
  },
  {
   "cell_type": "code",
   "execution_count": null,
   "metadata": {},
   "outputs": [],
   "source": [
    "silhouette_visualizer_26 = silhouette_visualizer[26].fit(X_pressure_normalized.T)\n",
    "silhouette_visualizer_26.show()"
   ]
  },
  {
   "cell_type": "markdown",
   "metadata": {},
   "source": [
    "#### Plot the result in C Town Map"
   ]
  },
  {
   "cell_type": "markdown",
   "metadata": {},
   "source": [
    "n_cluster settings. (According to the evaluation scores)"
   ]
  },
  {
   "cell_type": "code",
   "execution_count": null,
   "metadata": {},
   "outputs": [],
   "source": [
    "# define the number of clusters\n",
    "n_cluster_kmeans"
   ]
  },
  {
   "cell_type": "code",
   "execution_count": null,
   "metadata": {},
   "outputs": [],
   "source": [
    "press_cluster_labels_kmeans = pd.DataFrame(kmeans_result_labels[28].reshape(1,-1), columns=junction_names, index=['pressure_cluster'])"
   ]
  },
  {
   "cell_type": "code",
   "execution_count": null,
   "metadata": {},
   "outputs": [],
   "source": [
    "press_cluster_labels_kmeans"
   ]
  },
  {
   "cell_type": "code",
   "execution_count": null,
   "metadata": {},
   "outputs": [],
   "source": [
    "press_cluster_labels_kmeans.values"
   ]
  },
  {
   "cell_type": "code",
   "execution_count": null,
   "metadata": {},
   "outputs": [],
   "source": [
    "print(\"Number of Junctions in each cluster: \\n\")\n",
    "np.bincount(kmeans_result_labels[28])"
   ]
  },
  {
   "cell_type": "code",
   "execution_count": null,
   "metadata": {},
   "outputs": [],
   "source": [
    "plot_result(X_pressure, ctown.wn, n_cluster_kmeans, n_junctions, \n",
    "            press_cluster_labels_kmeans, \"KMeans Clustering\", plot_individual=False)"
   ]
  },
  {
   "cell_type": "markdown",
   "metadata": {},
   "source": [
    "### Agglomerative Clustering"
   ]
  },
  {
   "cell_type": "code",
   "execution_count": null,
   "metadata": {},
   "outputs": [],
   "source": [
    "# define a result dictionary\n",
    "# Agglomerative_dict = {\"n_component\":[Agglomerative.fit_predict(data)]}\n",
    "\n",
    "Agglomerative_dict = dict()"
   ]
  },
  {
   "cell_type": "markdown",
   "metadata": {},
   "source": [
    "#### Connectivity Matrix"
   ]
  },
  {
   "cell_type": "code",
   "execution_count": null,
   "metadata": {},
   "outputs": [],
   "source": [
    "# build a connnectivity matrix for agglomerative training\n",
    "# create a empty matrix with size of (n_junctions, n_junctions)\n",
    "n_junctions = ctown.wn.num_junctions\n",
    "Connect_Matrix = np.zeros((n_junctions, n_junctions))\n",
    "\n",
    "# set the entry in A to 1 when two junctions are connected to each other in c_town map\n",
    "for pipe_start_node, pipe_end_node in zip(pipe_start_nodes, pipe_end_nodes):\n",
    "    i = np.where(junction_names == pipe_start_node)\n",
    "    j = np.where(junction_names == pipe_end_node)\n",
    "    Connect_Matrix[i, j] = 1\n",
    "    Connect_Matrix[j, i] = 1\n",
    "\n",
    "# plot the result\n",
    "plt.figure()\n",
    "plt.spy(Connect_Matrix)\n",
    "fig.tight_layout()\n",
    "plt.show()"
   ]
  },
  {
   "cell_type": "markdown",
   "metadata": {},
   "source": [
    "Agglomerative Clustering without Connectivity Matrix.\n",
    "\n",
    "Two Cluster Method will be used:\n",
    "\n",
    "(1) Agglomerative Clustering:\n",
    "\n",
    "Merging the samples\n",
    "\n",
    "(2) Feature Clustering:\n",
    "\n",
    "Merging the features\n",
    "\n",
    "Here we also want to implement different kinds of linkage methods, i.e., {“ward”, “complete”, “average”, “single”}, \n",
    "\n",
    "(1) ward minimizes the variance of the clusters being merged.\n",
    "\n",
    "(2) average uses the average of the distances of each observation of the two sets.\n",
    "\n",
    "(3) complete or maximum linkage uses the maximum distances between all observations of the two sets.\n",
    "\n",
    "(4) single uses the minimum of the distances between all observations of the two sets.\n"
   ]
  },
  {
   "cell_type": "code",
   "execution_count": null,
   "metadata": {},
   "outputs": [],
   "source": [
    "# linkage selection\n",
    "n_cluster_agg_linkage_selection = np.arange(2,101)\n",
    "\n",
    "models_agg_ward = [AgglomerativeClustering(n_clusters=n_cluster, linkage=\"ward\") \n",
    "                        for n_cluster in n_cluster_agg_linkage_selection]\n",
    "models_agg_complete = [AgglomerativeClustering(n_clusters=n_cluster, linkage=\"complete\") \n",
    "                        for n_cluster in n_cluster_agg_linkage_selection]\n",
    "models_agg_average = [AgglomerativeClustering(n_clusters=n_cluster, linkage=\"average\") \n",
    "                        for n_cluster in n_cluster_agg_linkage_selection]\n",
    "models_agg_single = [AgglomerativeClustering(n_clusters=n_cluster, linkage=\"single\") \n",
    "                        for n_cluster in n_cluster_agg_linkage_selection]"
   ]
  },
  {
   "cell_type": "code",
   "execution_count": null,
   "metadata": {},
   "outputs": [],
   "source": [
    "# labels\n",
    "agglomerative_result_labels_ward = [agglomerative_model.fit_predict(X_pressure_normalized.T) \n",
    "                               for agglomerative_model in models_agg_ward ]\n",
    "\n",
    "agglomerative_result_labels_complete = [agglomerative_model.fit_predict(X_pressure_normalized.T) \n",
    "                               for agglomerative_model in models_agg_complete ]\n",
    "\n",
    "agglomerative_result_labels_average = [agglomerative_model.fit_predict(X_pressure_normalized.T) \n",
    "                               for agglomerative_model in models_agg_average ]\n",
    "\n",
    "agglomerative_result_labels_single = [agglomerative_model.fit_predict(X_pressure_normalized.T) \n",
    "                               for agglomerative_model in models_agg_single ]"
   ]
  },
  {
   "cell_type": "code",
   "execution_count": null,
   "metadata": {},
   "outputs": [],
   "source": [
    "# evaluate the result\n",
    "\n",
    "agg_silhouette_score_ward = [silhouette_score(X_pressure_normalized.T, label) for label in agglomerative_result_labels_ward]\n",
    "agg_davies_score_ward = [davies_bouldin_score(X_pressure_normalized.T, label) for label in agglomerative_result_labels_ward]\n",
    "agg_calinski_score_ward = [calinski_harabasz_score(X_pressure_normalized.T, label) \n",
    "                      for label in agglomerative_result_labels_ward]\n",
    "\n",
    "agg_silhouette_score_complete = [silhouette_score(X_pressure_normalized.T, label) for label in agglomerative_result_labels_complete]\n",
    "agg_davies_score_complete = [davies_bouldin_score(X_pressure_normalized.T, label) for label in agglomerative_result_labels_complete]\n",
    "agg_calinski_score_complete = [calinski_harabasz_score(X_pressure_normalized.T, label) \n",
    "                      for label in agglomerative_result_labels_complete]\n",
    "\n",
    "agg_silhouette_score_average = [silhouette_score(X_pressure_normalized.T, label) for label in agglomerative_result_labels_average]\n",
    "agg_davies_score_average = [davies_bouldin_score(X_pressure_normalized.T, label) for label in agglomerative_result_labels_average]\n",
    "agg_calinski_score_average = [calinski_harabasz_score(X_pressure_normalized.T, label) \n",
    "                      for label in agglomerative_result_labels_average]\n",
    "\n",
    "agg_silhouette_single = [silhouette_score(X_pressure_normalized.T, label) for label in agglomerative_result_labels_single]\n",
    "agg_davies_single = [davies_bouldin_score(X_pressure_normalized.T, label) for label in agglomerative_result_labels_single]\n",
    "agg_calinski_single = [calinski_harabasz_score(X_pressure_normalized.T, label) \n",
    "                      for label in agglomerative_result_labels_single]"
   ]
  },
  {
   "cell_type": "code",
   "execution_count": null,
   "metadata": {},
   "outputs": [],
   "source": [
    "# plot the result\n",
    "plt.figure(figsize=(10, 20))\n",
    "\n",
    "plt.subplot(411)\n",
    "plt.title(\"result of agglomerative clustering method with different linkages\")\n",
    "plt.plot(n_cluster_agg_linkage_selection, agg_silhouette_score_ward, \"r-\", label = \"ward silhouette score\")\n",
    "plt.xlabel(\"number of clusters\")\n",
    "plt.ylabel(\"ward silhouette score (closer to 1, better)\")\n",
    "plt.grid(True)\n",
    "\n",
    "plt.subplot(412)\n",
    "plt.plot(n_cluster_agg_linkage_selection, agg_silhouette_score_complete, \"r-\", label = \"complete silhouette score\")\n",
    "plt.xlabel(\"number of clusters\")\n",
    "plt.ylabel(\"complete silhouette score (closer to 1, better)\")\n",
    "plt.grid(True)\n",
    "\n",
    "plt.subplot(413)\n",
    "plt.plot(n_cluster_agg_linkage_selection, agg_silhouette_score_average, \"r-\", label = \"average silhouette score\")\n",
    "plt.xlabel(\"number of clusters\")\n",
    "plt.ylabel(\"average silhouette score (closer to 1, better)\")\n",
    "plt.grid(True)\n",
    "\n",
    "plt.subplot(414)\n",
    "plt.plot(n_cluster_agg_linkage_selection, agg_silhouette_single, \"r-\", label = \"single silhouette score\")\n",
    "plt.xlabel(\"number of clusters\")\n",
    "plt.ylabel(\"single silhouette score (closer to 1, better)\")\n",
    "plt.grid(True)\n",
    "\n",
    "fig.tight_layout()\n",
    "plt.show()"
   ]
  },
  {
   "cell_type": "code",
   "execution_count": null,
   "metadata": {},
   "outputs": [],
   "source": [
    "# define models\n",
    "agglomerative_models = [AgglomerativeClustering(n_clusters=n_cluster, linkage=\"ward\") \n",
    "                        for n_cluster in n_cluster_list]\n",
    "feature_agg_models = [FeatureAgglomeration(n_clusters=n_cluster, linkage=\"ward\") \n",
    "                        for n_cluster in n_cluster_list]\n",
    "# result labels\n",
    "agglomerative_result_labels = [agglomerative_model.fit_predict(X_pressure_normalized.T) \n",
    "                               for agglomerative_model in agglomerative_models ]\n",
    "\n",
    "feature_agg_result_labels = [feature_agg_model.fit(X_pressure_normalized).labels_\n",
    "                             for feature_agg_model in feature_agg_models]"
   ]
  },
  {
   "cell_type": "code",
   "execution_count": null,
   "metadata": {},
   "outputs": [],
   "source": [
    "# evaluate the result\n",
    "agg_silhouette_score = [silhouette_score(X_pressure_normalized.T, label) for label in agglomerative_result_labels]\n",
    "agg_davies_score = [davies_bouldin_score(X_pressure_normalized.T, label) for label in agglomerative_result_labels]\n",
    "agg_calinski_score = [calinski_harabasz_score(X_pressure_normalized.T, label) \n",
    "                      for label in agglomerative_result_labels]\n",
    "\n",
    "f_agg_silhouette_score = [silhouette_score(X_pressure_normalized.T, label) for label in feature_agg_result_labels]\n",
    "f_agg_davies_score = [davies_bouldin_score(X_pressure_normalized.T, label) for label in feature_agg_result_labels]\n",
    "f_agg_calinski_score = [calinski_harabasz_score(X_pressure_normalized.T, label) for label in feature_agg_result_labels]"
   ]
  },
  {
   "cell_type": "markdown",
   "metadata": {},
   "source": [
    "Plot the result of normal agg"
   ]
  },
  {
   "cell_type": "code",
   "execution_count": null,
   "metadata": {},
   "outputs": [],
   "source": [
    "# plot\n",
    "plt.figure(figsize=(8,10))\n",
    "\n",
    "plt.subplot(311)\n",
    "plt.title(\"result of agglomerative clustering method without connectivity matrix\")\n",
    "plt.plot(n_cluster_list, agg_silhouette_score, \"r-\", label = \"silhouette score\")\n",
    "plt.xlabel(\"number of clusters\")\n",
    "plt.ylabel(\"silhouette score (closer to 1, better)\")\n",
    "plt.grid(True)\n",
    "\n",
    "plt.subplot(312)\n",
    "plt.plot(n_cluster_list, agg_davies_score, \"g-\", label = \"davies_bouldin_score\")\n",
    "plt.xlabel(\"number of clusters\")\n",
    "plt.ylabel(\"davies bouldin score (smaller, better)\")\n",
    "plt.grid(True)\n",
    "\n",
    "plt.subplot(313)\n",
    "plt.plot(n_cluster_list, agg_calinski_score, \"b-\", label = \"calinski_harabasz_score\")\n",
    "plt.xlabel(\"number of clusters\")\n",
    "plt.ylabel(\"calinski score (larger, better)\")\n",
    "plt.grid(True)\n",
    "\n",
    "fig.tight_layout()\n",
    "plt.show()"
   ]
  },
  {
   "cell_type": "code",
   "execution_count": null,
   "metadata": {},
   "outputs": [],
   "source": [
    "n_cluster_agg = np.argmin(agg_davies_score[:40]) + 2\n",
    "n_cluster_agg"
   ]
  },
  {
   "cell_type": "markdown",
   "metadata": {},
   "source": [
    "Plot the result of Feature Agg"
   ]
  },
  {
   "cell_type": "code",
   "execution_count": null,
   "metadata": {},
   "outputs": [],
   "source": [
    "# plot\n",
    "plt.figure(figsize=(8,10))\n",
    "\n",
    "plt.subplot(311)\n",
    "plt.title(\"result of agglomerative clustering method without connectivity matrix\")\n",
    "plt.plot(n_cluster_list, f_agg_silhouette_score, \"r-\", label = \"silhouette score\")\n",
    "plt.xlabel(\"number of clusters\")\n",
    "plt.ylabel(\"silhouette score (closer to 1, better)\")\n",
    "plt.grid(True)\n",
    "\n",
    "plt.subplot(312)\n",
    "plt.plot(n_cluster_list, f_agg_davies_score, \"g-\", label = \"davies_bouldin_score\")\n",
    "plt.xlabel(\"number of clusters\")\n",
    "plt.ylabel(\"davies bouldin score (smaller, better)\")\n",
    "plt.grid(True)\n",
    "\n",
    "plt.subplot(313)\n",
    "plt.plot(n_cluster_list, f_agg_calinski_score, \"b-\", label = \"calinski_harabasz_score\")\n",
    "plt.xlabel(\"number of clusters\")\n",
    "plt.ylabel(\"calinski score (larger, better)\")\n",
    "plt.grid(True)\n",
    "\n",
    "fig.tight_layout()\n",
    "plt.show()"
   ]
  },
  {
   "cell_type": "markdown",
   "metadata": {},
   "source": [
    "Agglomerative Clustering with Connectivity Matrix"
   ]
  },
  {
   "cell_type": "code",
   "execution_count": null,
   "metadata": {
    "scrolled": true
   },
   "outputs": [],
   "source": [
    "# define models\n",
    "agglomerative_models_with_connectivity_matrix = [FeatureAgglomeration(n_clusters=n_cluster, linkage=\"ward\", connectivity=Connect_Matrix) \n",
    "                        for n_cluster in n_cluster_list]\n",
    "\n",
    "# result labels\n",
    "agglomerative_result_labels_with_connectivity_matrix = [agglomerative_model_with_connectivity_matrix.fit(X_pressure_normalized).labels_ \n",
    "                               for agglomerative_model_with_connectivity_matrix in agglomerative_models_with_connectivity_matrix]"
   ]
  },
  {
   "cell_type": "code",
   "execution_count": null,
   "metadata": {},
   "outputs": [],
   "source": [
    "agglomerative_result_labels_with_connectivity_matrix[1].shape"
   ]
  },
  {
   "cell_type": "code",
   "execution_count": null,
   "metadata": {},
   "outputs": [],
   "source": [
    "# evaluate the result\n",
    "agg_silhouette_score_with_connectivity_matrix = [silhouette_score(X_pressure_normalized.T, label) for label in agglomerative_result_labels_with_connectivity_matrix]\n",
    "\n",
    "agg_davies_score_with_connectivity_matrix = [davies_bouldin_score(X_pressure_normalized.T, label) for label in agglomerative_result_labels_with_connectivity_matrix]\n",
    "\n",
    "agg_calinski_score_with_connectivity_matrix = [calinski_harabasz_score(X_pressure_normalized.T, label) \n",
    "                      for label in agglomerative_result_labels_with_connectivity_matrix]"
   ]
  },
  {
   "cell_type": "code",
   "execution_count": null,
   "metadata": {},
   "outputs": [],
   "source": [
    "# plot the result\n",
    "plt.figure(figsize=(8,10))\n",
    "\n",
    "plt.subplot(311)\n",
    "plt.title(\"result of agglomerative clustering method with connectivity matrix\")\n",
    "plt.plot(n_cluster_list, agg_silhouette_score_with_connectivity_matrix, \"r-\", label = \"silhouette score\")\n",
    "plt.xlabel(\"number of clusters\")\n",
    "plt.ylabel(\"silhouette score (closer to 1, better)\")\n",
    "plt.grid(True)\n",
    "\n",
    "plt.subplot(312)\n",
    "plt.plot(n_cluster_list, agg_davies_score_with_connectivity_matrix, \"g-\", label = \"davies_bouldin_score\")\n",
    "plt.xlabel(\"number of clusters\")\n",
    "plt.ylabel(\"davies bouldin score (smaller, better)\")\n",
    "plt.grid(True)\n",
    "\n",
    "plt.subplot(313)\n",
    "plt.plot(n_cluster_list, agg_calinski_score_with_connectivity_matrix, \"b-\", label = \"calinski_harabasz_score\")\n",
    "plt.xlabel(\"number of clusters\")\n",
    "plt.ylabel(\"calinski score (larger, better)\")\n",
    "plt.grid(True)\n",
    "\n",
    "fig.tight_layout()\n",
    "plt.show()"
   ]
  },
  {
   "cell_type": "code",
   "execution_count": null,
   "metadata": {},
   "outputs": [],
   "source": [
    "n_cluster_agg_with_connec_matrix = np.argmin(agg_davies_score_with_connectivity_matrix[:40])+2\n",
    "n_cluster_agg_with_connec_matrix"
   ]
  },
  {
   "cell_type": "markdown",
   "metadata": {},
   "source": [
    "#### Plot the result in C Town"
   ]
  },
  {
   "cell_type": "code",
   "execution_count": null,
   "metadata": {},
   "outputs": [],
   "source": [
    "# define the n_cluster\n",
    "n_cluster_agg\n",
    "n_cluster_agg_with_connec_matrix"
   ]
  },
  {
   "cell_type": "code",
   "execution_count": null,
   "metadata": {},
   "outputs": [],
   "source": [
    "# get the result labels\n",
    "press_cluster_labels_agg = pd.DataFrame(agglomerative_result_labels[22].reshape(1,-1), columns=junction_names, index=['pressure_cluster'])\n",
    "\n",
    "press_cluster_labels_agg_with_connectivity_matrix = pd.DataFrame(agglomerative_result_labels_with_connectivity_matrix[20].reshape(1,-1), columns=junction_names, index=['pressure_cluster'])"
   ]
  },
  {
   "cell_type": "code",
   "execution_count": null,
   "metadata": {},
   "outputs": [],
   "source": [
    "press_cluster_labels_agg"
   ]
  },
  {
   "cell_type": "code",
   "execution_count": null,
   "metadata": {},
   "outputs": [],
   "source": [
    "press_cluster_labels_agg_with_connectivity_matrix"
   ]
  },
  {
   "cell_type": "code",
   "execution_count": null,
   "metadata": {},
   "outputs": [],
   "source": [
    "# plot the result\n",
    "# plot_result(data, wn, n_cluster, n_cluster_labels, clustering_name):\n",
    "plot_result(X_pressure, ctown.wn, n_cluster_agg, n_junctions, \n",
    "            press_cluster_labels_agg, \"Agglomerative Clustering\", plot_individual=False)"
   ]
  },
  {
   "cell_type": "code",
   "execution_count": null,
   "metadata": {},
   "outputs": [],
   "source": [
    "# plot the result with connectivity matrix\n",
    "plot_result(X_pressure, ctown.wn, n_cluster_agg_with_connec_matrix, n_junctions, \n",
    "            press_cluster_labels_agg_with_connectivity_matrix, \n",
    "            \"Agglomerative Clustering with Connectivity Matrix\",\n",
    "           plot_individual=False)"
   ]
  },
  {
   "cell_type": "markdown",
   "metadata": {},
   "source": [
    "### DBSCAN"
   ]
  },
  {
   "cell_type": "markdown",
   "metadata": {},
   "source": [
    "Density Based Spacial Clustering of Application with Noise\n",
    "\n",
    "\n",
    "The basic idea of this algorithm:\n",
    "\n",
    "    The data within the same cluster will be closed to each other and form an area with high density and there would be some space or gap for different clusters.\n",
    "\n",
    "There will be two parameters in this Algorithm, i.e. epsilon and min_samples."
   ]
  },
  {
   "cell_type": "code",
   "execution_count": null,
   "metadata": {},
   "outputs": [],
   "source": [
    "# find the best epsilon\n",
    "def find_best_epsilon_neighboring(n_neighbors, data=X_pressure_normalized.T):\n",
    "    k_neighbours = NearestNeighbors(n_neighbors=n_neighbors).fit(data)\n",
    "    \"\"\"\n",
    "    the kneighbors method returns two arrays, \n",
    "    one which contains the distance to the closest n_neighbors points and \n",
    "    the other which contains the indedata for each of those points.\n",
    "    \"\"\"\n",
    "    distances, indices = k_neighbours.kneighbors()\n",
    "    ## return the distances of the k nearest neighbor of each point\n",
    "    ## the values of each row in distances array \n",
    "    # are in a order of closest to farthest neighbouring points w.r.t\n",
    "    ## single point, indices are the corresponding serial number\n",
    "\n",
    "    distances = np.sort(distances, axis=0)\n",
    "    # sort distances along adatais 0\n",
    "    distances = distances[:, n_neighbors - 1]\n",
    "    # 选择最外面的一列，行已经通过np.sort从小到大排列完成，\n",
    "    # 现在需要取的是在点 a 的 k 个紧邻中最远的那一个，\n",
    "    # 即将最外面的一列plot出来得到的\n",
    "    # elbow plot 中的拐点对应的值为eps，同时该eps对应的min points  \n",
    "    # 应该是 紧邻的数量 k\n",
    "    # 拐点处距离陡增，证明点A大部分的紧邻都落在这个拐点所对应的距离内，\n",
    "    # 所以拐点对应的距离应该就为紧邻数量k所对应的最佳eps\n",
    "    return distances"
   ]
  },
  {
   "cell_type": "code",
   "execution_count": null,
   "metadata": {},
   "outputs": [],
   "source": [
    "# define list of min samples\n",
    "min_samples_list = np.arange(1,21)"
   ]
  },
  {
   "cell_type": "code",
   "execution_count": null,
   "metadata": {},
   "outputs": [],
   "source": [
    "# find the best eps\n",
    "results_distance = list(map(find_best_epsilon_neighboring, min_samples_list))"
   ]
  },
  {
   "cell_type": "code",
   "execution_count": null,
   "metadata": {},
   "outputs": [],
   "source": [
    "# plot the result\n",
    "plt.figure(figsize=(10,20))\n",
    "plt.title(\"K Neighbouring Distance with data pre-processing ss\")\n",
    "for i in range(5):\n",
    "    plt.subplot(5, 1, i+1)\n",
    "    plt.plot(results_distance[4*i+0], \"r-\",label=\"min sample = {}\".format(4*i+1))\n",
    "    plt.plot(results_distance[4*i+1], \"b-\",label=\"min sample = {}\".format(4*i+2))\n",
    "    plt.plot(results_distance[4*i+2], \"g-\",label=\"min sample = {}\".format(4*i+3))\n",
    "    plt.plot(results_distance[4*i+3], \"y-\", label=\"min sample = {}\".format(4*i+4))\n",
    "    plt.xlabel(\"Samples\")\n",
    "    plt.ylabel(\"K Distance\")\n",
    "    plt.legend(loc=\"upper left\")\n",
    "plt.savefig(\"find_optimal_eps_elbow_method_ss.png\")\n",
    "plt.show()\n"
   ]
  },
  {
   "cell_type": "code",
   "execution_count": null,
   "metadata": {},
   "outputs": [],
   "source": [
    "# best eps could be in the range of 0.5 to 0.75\n",
    "# we take best_eps = 0.6\n",
    "best_eps_list = np.linspace(0.10,0.75, 14)\n",
    "best_eps_list"
   ]
  },
  {
   "cell_type": "markdown",
   "metadata": {},
   "source": [
    "After we fixed the eps to 0.6 and then we can use this eps to find the best min_samples"
   ]
  },
  {
   "cell_type": "code",
   "execution_count": null,
   "metadata": {},
   "outputs": [],
   "source": [
    "def find_best_min_samples(data, eps):\n",
    "    \"\"\"\n",
    "    :param data: data\n",
    "    :param eps: the eps radius\n",
    "    :return: list, contains the number of samples inside eps as a single element\n",
    "    \"\"\"\n",
    "    distance_matridata = scipy.spatial.distance.cdist(data, data)\n",
    "    distance_within_eps_list = []\n",
    "    for i in range(distance_matridata.shape[0]):\n",
    "        distance = distance_matridata[i, :]\n",
    "        distance_within_eps_list.append(len(distance[distance <= eps]))\n",
    "    return distance_within_eps_list"
   ]
  },
  {
   "cell_type": "code",
   "execution_count": null,
   "metadata": {},
   "outputs": [],
   "source": [
    "find_best_min_samples_fixed_X = functools.partial(find_best_min_samples, X_pressure_normalized.T)\n",
    "distance_within_eps_list = list(map(find_best_min_samples_fixed_X, best_eps_list))"
   ]
  },
  {
   "cell_type": "code",
   "execution_count": null,
   "metadata": {},
   "outputs": [],
   "source": [
    "#plot the result\n",
    "plt.figure(figsize=(10,25))\n",
    "i = 1\n",
    "j = 0\n",
    "for result in distance_within_eps_list:\n",
    "    plt.subplot(5, 3, i)\n",
    "    plt.title(\"Results of eps = {}\".format(best_eps_list[j]))\n",
    "    plt.hist(result, bins=20)\n",
    "    # how many data samples we have when we set eps under between this range\n",
    "    plt.xlabel(\"min_samples\")\n",
    "    plt.ylabel(\"number of data samples\")\n",
    "    i += 1\n",
    "    j += 1\n",
    "\n",
    "fig.tight_layout()\n",
    "plt.show()"
   ]
  },
  {
   "cell_type": "code",
   "execution_count": null,
   "metadata": {},
   "outputs": [],
   "source": [
    "# we take min_samples to min_samples = 10\n",
    "min_samples_list = np.linspace(1,12,12)\n",
    "min_samples_list"
   ]
  },
  {
   "cell_type": "code",
   "execution_count": null,
   "metadata": {},
   "outputs": [],
   "source": [
    "# combine min_samples and best_eps\n",
    "combi = list(itertools.product(best_eps_list, min_samples_list))\n",
    "len(combi)"
   ]
  },
  {
   "cell_type": "code",
   "execution_count": null,
   "metadata": {},
   "outputs": [],
   "source": [
    "# running algorithm and get model\n",
    "dbscan_models = [DBSCAN(eps=best_eps, min_samples=min_samples) for best_eps, min_samples in combi]"
   ]
  },
  {
   "cell_type": "code",
   "execution_count": null,
   "metadata": {},
   "outputs": [],
   "source": [
    "# labels of clustering\n",
    "dbscan_labels = [dbscan_model.fit_predict(X_pressure_normalized.T) for dbscan_model in dbscan_models]"
   ]
  },
  {
   "cell_type": "code",
   "execution_count": null,
   "metadata": {},
   "outputs": [],
   "source": [
    "# get the points and counts\n",
    "counts = [np.unique(dbscan_label, return_counts=True) for dbscan_label in dbscan_labels]"
   ]
  },
  {
   "cell_type": "code",
   "execution_count": null,
   "metadata": {},
   "outputs": [],
   "source": [
    "counts"
   ]
  },
  {
   "cell_type": "code",
   "execution_count": null,
   "metadata": {},
   "outputs": [],
   "source": [
    "# evaluate the result\n",
    "dbscan_silhouette = [silhouette_score(X_pressure_normalized.T, dbscan_label) for dbscan_label in dbscan_labels]\n",
    "dbscan_davies = [davies_bouldin_score(X_pressure_normalized.T, dbscan_label) for dbscan_label in dbscan_labels]\n",
    "dbscan_calinski = [calinski_harabasz_score(X_pressure_normalized.T, dbscan_label) for dbscan_label in dbscan_labels]"
   ]
  },
  {
   "cell_type": "code",
   "execution_count": null,
   "metadata": {},
   "outputs": [],
   "source": [
    "#plot the result\n",
    "plt.figure(figsize=(8,10))\n",
    "\n",
    "plt.subplot(311)\n",
    "plt.title(\"result of DBSCAN method\")\n",
    "plt.plot(np.arange(0,168).reshape(-1,1), dbscan_silhouette, \"r-\", label = \"silhouette score\")\n",
    "plt.xlabel(\"(eps, min_samples index)\")\n",
    "plt.ylabel(\"silhouette score (closer to 1, better)\")\n",
    "plt.grid(True)\n",
    "\n",
    "plt.subplot(312)\n",
    "plt.plot(np.arange(0,168).reshape(-1,1), dbscan_davies, \"g-\", label = \"davies_bouldin_score\")\n",
    "plt.xlabel(\"(eps, min_samples index)\")\n",
    "plt.ylabel(\"davies bouldin score (smaller, better)\")\n",
    "plt.grid(True)\n",
    "\n",
    "plt.subplot(313)\n",
    "plt.plot(np.arange(0,168).reshape(-1,1), dbscan_calinski, \"b-\", label = \"calinski_harabasz_score\")\n",
    "plt.xlabel(\"(eps, min_samples index)\")\n",
    "plt.ylabel(\"calinski score (larger, better)\")\n",
    "plt.grid(True)\n",
    "\n",
    "fig.tight_layout()\n",
    "plt.show()"
   ]
  },
  {
   "cell_type": "code",
   "execution_count": null,
   "metadata": {},
   "outputs": [],
   "source": [
    "np.argmax(dbscan_silhouette)  # 14\n",
    "np.argmin(dbscan_davies[1:20]) # 13\n",
    "np.argmax(dbscan_calinski[1:20]) # 13"
   ]
  },
  {
   "cell_type": "code",
   "execution_count": null,
   "metadata": {},
   "outputs": [],
   "source": [
    "combi[14]  # 0.15 3\n",
    "combi[13] # 0.15 2\n",
    "combi[0] # 0.1 1.0"
   ]
  },
  {
   "cell_type": "markdown",
   "metadata": {},
   "source": [
    "Choose two possible eps, min_samples pair\n",
    "\n",
    "(1) eps = 0.1, min_samples = 1\n",
    "\n",
    "(2) eps = 0.15, min_samples = 2\n",
    "\n",
    "(3) eps = 0.15, min_samples = 3"
   ]
  },
  {
   "cell_type": "code",
   "execution_count": null,
   "metadata": {},
   "outputs": [],
   "source": [
    "dbscan_label_1 = dbscan_labels[0]\n",
    "dbscan_label_1\n",
    "\n",
    "# give up this combination, too many clusters compared with other two combinations"
   ]
  },
  {
   "cell_type": "code",
   "execution_count": null,
   "metadata": {},
   "outputs": [],
   "source": [
    "dbscan_label_2 = dbscan_labels[13] + 1\n",
    "np.bincount(dbscan_label_2).shape"
   ]
  },
  {
   "cell_type": "code",
   "execution_count": null,
   "metadata": {},
   "outputs": [],
   "source": [
    "dbscan_label_3 = dbscan_labels[14] + 1\n",
    "np.bincount(dbscan_label_3).shape"
   ]
  },
  {
   "cell_type": "markdown",
   "metadata": {},
   "source": [
    "### Visualization\n",
    "\n",
    "Because DBSCAN may produce some noise points, so we assume all this noise points as one cluster."
   ]
  },
  {
   "cell_type": "code",
   "execution_count": null,
   "metadata": {},
   "outputs": [],
   "source": [
    "# n_cluster_dbscan\n",
    "\n",
    "n_cluster_dbscan_1 = 25\n",
    "n_cluster_dbscan_2 = 22"
   ]
  },
  {
   "cell_type": "code",
   "execution_count": null,
   "metadata": {},
   "outputs": [],
   "source": [
    "press_cluster_labels_dbscan_1 = pd.DataFrame(dbscan_label_2.reshape(1,-1), columns=junction_names, index=['pressure_cluster'])\n",
    "press_cluster_labels_dbscan_2 = pd.DataFrame(dbscan_label_3.reshape(1,-1), columns=junction_names, index=['pressure_cluster'])"
   ]
  },
  {
   "cell_type": "code",
   "execution_count": null,
   "metadata": {},
   "outputs": [],
   "source": [
    "press_cluster_labels_dbscan_1"
   ]
  },
  {
   "cell_type": "code",
   "execution_count": null,
   "metadata": {},
   "outputs": [],
   "source": [
    "press_cluster_labels_dbscan_2"
   ]
  },
  {
   "cell_type": "code",
   "execution_count": null,
   "metadata": {},
   "outputs": [],
   "source": [
    "# plot the result\n",
    "plot_result(X_pressure, ctown.wn, n_cluster_dbscan_1, n_junctions, \n",
    "            press_cluster_labels_dbscan_1, \"DBSCAN Clustering\", plot_individual=True)"
   ]
  },
  {
   "cell_type": "code",
   "execution_count": null,
   "metadata": {},
   "outputs": [],
   "source": [
    "# plot the result\n",
    "plot_result(X_pressure, ctown.wn, n_cluster_dbscan_2, n_junctions, \n",
    "            press_cluster_labels_dbscan_2, \"DBSCAN Clustering\", plot_individual=True)"
   ]
  },
  {
   "cell_type": "markdown",
   "metadata": {},
   "source": [
    "### OPTICS"
   ]
  },
  {
   "cell_type": "markdown",
   "metadata": {},
   "source": [
    "paper here:\n",
    "https://www.dbs.ifi.lmu.de/Publikationen/Papers/OPTICS.pdf"
   ]
  },
  {
   "cell_type": "markdown",
   "metadata": {},
   "source": [
    "### Spectral Clustering"
   ]
  },
  {
   "cell_type": "markdown",
   "metadata": {},
   "source": [
    "Matrix Interpretation:\n",
    "\n",
    "(1) Ajacency Matrix\n",
    "\n",
    "   the row and column indices represent the nodes and the entries represent the absence (0) or presence (1) of an edge between the nodes.\n",
    "\n",
    "(2) Distance Matrix\n",
    "\n",
    "the pairwise distance between each pair of samples in data set. The diagnoal entries are zero.\n",
    "\n",
    "(3) Degree Matrix\n",
    "\n",
    "The degree of a node is how many edges connect to it. \n",
    "There will be in-degree and out-degree in a directed graph. In our example we use simply degree cause edges go both ways. We could also get the degree by taking the sum of the node’s row in the adjacency matrix.\n",
    "\n",
    "The degree matrix is a diagonal matrix where the value at entry (i, i) is the degree of node i.\n",
    "\n",
    "(4) Graph Laplacian\n",
    "\n",
    "The Laplacian is just another matrix representation of a graph. We can get the normal Laplacian by subtracting the adjacency matrix from the degree matrix. So the Laplacian’s diagonal is the degree of our nodes, and the off diagonal is the negative edge weights. \n",
    "\n",
    "\n"
   ]
  },
  {
   "cell_type": "markdown",
   "metadata": {},
   "source": [
    "In order to perform the spectral clustering in our experiment, we need to use the distance matrix as Ajacency Matrix instead of the normal ajacency matrix."
   ]
  },
  {
   "cell_type": "code",
   "execution_count": null,
   "metadata": {},
   "outputs": [],
   "source": [
    "# Ajacency Matrix\n",
    "A_matrix = Connect_Matrix\n",
    "\n",
    "# Distance Matrix\n",
    "D_matrix = pairwise_distances(X_pressure.T, metric=\"euclidean\")\n",
    "weighted_D_matrix = weighted_distance\n",
    "\n",
    "# Degree Matrix\n",
    "De_Matrix_A = np.diag(np.sum(A_matrix, axis=1))\n",
    "De_Matrix_distance = np.diag(np.sum(D_matrix, axis=1))\n",
    "De_Matrix_weighted_distance = np.diag(np.sum(weighted_D_matrix, axis=1))\n",
    "\n",
    "# Laplacian Matrix\n",
    "La_Matrix_A = De_Matrix_A - A_matrix\n",
    "La_Matrix_distance = De_Matrix_distance - D_matrix\n",
    "La_Matrix_weighted_distance = De_Matrix_weighted_distance - weighted_D_matrix"
   ]
  },
  {
   "cell_type": "markdown",
   "metadata": {},
   "source": [
    "Take a deeper look at Laplcian Matrix. The eigenvalues of Laplacian Matrix has some relationship with the connections in graph. When the graph is completely disconnected, all ten eigenvalues are 0. As adding edges, some of eigenvalues increase. In fact, the number of 0 eigenvalues corresponds to the number of connected components in graph, i.e. the number of 0 eigenvalues in laplacian matrix equals the number of clusters in graph.\n",
    "\n",
    "The first nonzero eigenvalue is called the spectral gap. The spectral gap gives us some notion of the density of the graph. If this graph was densely connected (all pairs of the 388 nodes had an edge), then the spectral gap would be 388."
   ]
  },
  {
   "cell_type": "code",
   "execution_count": null,
   "metadata": {},
   "outputs": [],
   "source": [
    "# calculate the eigenvalue and eigenvector of Laplacian Matrix\n",
    "eig_val, eig_vec = np.linalg.eig(La_Matrix_weighted_distance)\n",
    "print(f\"La_Matrix_weighted_distance.shape = {La_Matrix_weighted_distance.shape}\")"
   ]
  },
  {
   "cell_type": "code",
   "execution_count": null,
   "metadata": {},
   "outputs": [],
   "source": [
    "np.argmin(eig_val)"
   ]
  },
  {
   "cell_type": "code",
   "execution_count": null,
   "metadata": {},
   "outputs": [],
   "source": [
    "plt.plot(eig_val)"
   ]
  },
  {
   "cell_type": "markdown",
   "metadata": {},
   "source": [
    "Use Spectral Clustering in Sklearn to verify. \n",
    "\n",
    "Different label assignment strategies can be used, corresponding to the assign_labels parameter of SpectralClustering. \n",
    "\n",
    "(1) \"kmeans\" strategy can match finer details, but can be unstable cause it depends on random initialization.\n",
    "\n",
    "(2) \"discretize\" strategy is 100% reproducible, but tends to create parcels of fairly even and geometrical shape."
   ]
  },
  {
   "cell_type": "code",
   "execution_count": null,
   "metadata": {},
   "outputs": [],
   "source": [
    "# define models\n",
    "\n",
    "models_spectral = [SpectralClustering(n_clusters=n_cluster, assign_labels=\"discretize\").fit(X_pressure_normalized.T) \n",
    "                 for n_cluster in n_cluster_list]\n",
    "\n",
    "spectral_labels = [model_spectral.labels_ for model_spectral in models_spectral]"
   ]
  },
  {
   "cell_type": "code",
   "execution_count": null,
   "metadata": {},
   "outputs": [],
   "source": [
    "# evaluate the score\n",
    "spectral_silhouette_score = [silhouette_score(X_pressure_normalized.T, label) for label in spectral_labels]\n",
    "spectral_davies_score = [davies_bouldin_score(X_pressure_normalized.T, label) for label in spectral_labels]\n",
    "spectral_calinski_score = [calinski_harabasz_score(X_pressure_normalized.T, label) for label in spectral_labels]"
   ]
  },
  {
   "cell_type": "code",
   "execution_count": null,
   "metadata": {},
   "outputs": [],
   "source": [
    "# plot the result\n",
    "plt.figure(figsize=(8,10))\n",
    "\n",
    "plt.subplot(311)\n",
    "plt.title(\"result of spectral clustering method\")\n",
    "plt.plot(n_cluster_list, spectral_silhouette_score, \"r-\", label = \"silhouette score\")\n",
    "plt.xlabel(\"number of clusters\")\n",
    "plt.ylabel(\"silhouette score (closer to 1, better)\")\n",
    "plt.grid(True)\n",
    "\n",
    "plt.subplot(312)\n",
    "plt.plot(n_cluster_list, spectral_davies_score, \"g-\", label = \"davies_bouldin_score\")\n",
    "plt.xlabel(\"number of clusters\")\n",
    "plt.ylabel(\"davies bouldin score (smaller, better)\")\n",
    "plt.grid(True)\n",
    "\n",
    "plt.subplot(313)\n",
    "plt.plot(n_cluster_list, spectral_calinski_score, \"b-\", label = \"calinski_harabasz_score\")\n",
    "plt.xlabel(\"number of clusters\")\n",
    "plt.ylabel(\"calinski score (larger, better)\")\n",
    "plt.grid(True)\n",
    "\n",
    "fig.tight_layout()\n",
    "plt.show()"
   ]
  },
  {
   "cell_type": "code",
   "execution_count": null,
   "metadata": {},
   "outputs": [],
   "source": [
    "n_cluster_spectral = np.argmax(spectral_calinski_score) + 2 # starts from 2"
   ]
  },
  {
   "cell_type": "code",
   "execution_count": null,
   "metadata": {},
   "outputs": [],
   "source": [
    "# n_cluster_labels\n",
    "press_cluster_labels_spectral = pd.DataFrame(spectral_labels[22].reshape(1,-1), columns=junction_names, index=['pressure_cluster'])\n",
    "press_cluster_labels_spectral"
   ]
  },
  {
   "cell_type": "code",
   "execution_count": null,
   "metadata": {},
   "outputs": [],
   "source": [
    "# plot the result\n",
    "# plot_result(data, wn, n_cluster, n_junctions, n_cluster_labels, clustering_name, plot_individual=True):\n",
    "\n",
    "plot_result(X_pressure, ctown.wn, n_cluster_spectral, n_junctions, press_cluster_labels_spectral, \"spectral clustering\", plot_individual=False)"
   ]
  },
  {
   "cell_type": "markdown",
   "metadata": {},
   "source": [
    "### Gaussian Mixture Model"
   ]
  },
  {
   "attachments": {
    "image.png": {
     "image/png": "[encoded data removed]"
    }
   },
   "cell_type": "markdown",
   "metadata": {},
   "source": [
    "Gaussian Model Selection.\n",
    "\n",
    "There will be four models to be selected\n",
    "\n",
    "‘full’\n",
    "\n",
    "    each component has its own general covariance matrix\n",
    "‘tied’\n",
    "\n",
    "    all components share the same general covariance matrix\n",
    "‘diag’\n",
    "\n",
    "    each component has its own diagonal covariance matrix\n",
    "‘spherical’\n",
    "\n",
    "    each component has its own single variance\n",
    "Picture to illustrate:\n",
    "![image.png](attachment:image.png)\n",
    "\n",
    "\n",
    "\n",
    "define a small range of clusters and train the model with different covariance type to find the best model"
   ]
  },
  {
   "cell_type": "code",
   "execution_count": null,
   "metadata": {},
   "outputs": [],
   "source": [
    "# define models\n",
    "n_clusters_gmm = np.arange(2, 23)\n",
    "\n",
    "models_gmm_full = [GaussianMixture(n_components=n_cluster, covariance_type=\"full\", random_state=0).fit(X_pressure_normalized.T)\n",
    "             for n_cluster in n_clusters_gmm]\n",
    "models_gmm_sph = [GaussianMixture(n_components=n_cluster, covariance_type=\"spherical\", random_state=0).fit(X_pressure_normalized.T)\n",
    "             for n_cluster in n_clusters_gmm]\n",
    "\n",
    "models_gmm_tied = [GaussianMixture(n_components=n_cluster, covariance_type=\"tied\", random_state=0).fit(X_pressure_normalized.T)\n",
    "             for n_cluster in n_clusters_gmm]\n",
    "models_gmm_diag = [GaussianMixture(n_components=n_cluster, covariance_type=\"diag\", random_state=0).fit(X_pressure_normalized.T)\n",
    "             for n_cluster in n_clusters_gmm]"
   ]
  },
  {
   "cell_type": "code",
   "execution_count": null,
   "metadata": {},
   "outputs": [],
   "source": [
    "# evaluate with BIC score\n",
    "\n",
    "bic_full = [m.bic(X_pressure_normalized.T) for m in models_gmm_full]\n",
    "bic_sph = [m.bic(X_pressure_normalized.T) for m in models_gmm_sph]\n",
    "bic_tied = [m.bic(X_pressure_normalized.T) for m in models_gmm_tied]\n",
    "bic_diag = [m.bic(X_pressure_normalized.T) for m in models_gmm_diag]"
   ]
  },
  {
   "cell_type": "code",
   "execution_count": null,
   "metadata": {},
   "outputs": [],
   "source": [
    "# plot the BIC score\n",
    "plt.figure()\n",
    "plt.subplot(211)\n",
    "plt.title(\"BIC Score of GMM with different models\")\n",
    "plt.plot(n_clusters_gmm, bic_full,\"g-\", label=\"full\")\n",
    "plt.plot(n_clusters_gmm, bic_sph,\"b-\", label=\"spherical\")\n",
    "plt.plot(n_clusters_gmm, bic_diag,\"y-\", label=\"diag\")\n",
    "plt.xlabel(\"n_components\")\n",
    "plt.ylabel(\"BIC score (the lower, the better)\")\n",
    "plt.legend(loc=\"best\")\n",
    "\n",
    "plt.subplot(212)\n",
    "plt.plot(n_clusters_gmm, bic_tied,\"r-\", label=\"tied\")\n",
    "\n",
    "plt.show()\n"
   ]
  },
  {
   "cell_type": "markdown",
   "metadata": {},
   "source": [
    "Choose \"tied\" as our models"
   ]
  },
  {
   "cell_type": "code",
   "execution_count": null,
   "metadata": {},
   "outputs": [],
   "source": [
    "# define models\n",
    "models_gmm = [GaussianMixture(n_components=n_cluster, covariance_type=\"tied\", random_state=0).fit(X_pressure_normalized.T)\n",
    "             for n_cluster in n_cluster_list]"
   ]
  },
  {
   "cell_type": "code",
   "execution_count": null,
   "metadata": {},
   "outputs": [],
   "source": [
    "# calculate the probability of each sample given each gaussian distribution\n",
    "probas_gmm = [model_gmm.predict_proba(X_pressure_normalized.T) for model_gmm in models_gmm]"
   ]
  },
  {
   "cell_type": "code",
   "execution_count": null,
   "metadata": {},
   "outputs": [],
   "source": [
    "# get the result label\n",
    "gmm_labels = [np.argmax(proba_gmm, axis = 1) for proba_gmm in probas_gmm]"
   ]
  },
  {
   "cell_type": "code",
   "execution_count": null,
   "metadata": {},
   "outputs": [],
   "source": [
    "# evaluate the result\n",
    "gmm_silhouette_score = [silhouette_score(X_pressure_normalized.T, label) for label in gmm_labels]\n",
    "gmm_davies_score = [davies_bouldin_score(X_pressure_normalized.T, label) for label in gmm_labels]\n",
    "gmm_calinski_score = [calinski_harabasz_score(X_pressure_normalized.T, label) for label in gmm_labels]"
   ]
  },
  {
   "cell_type": "code",
   "execution_count": null,
   "metadata": {},
   "outputs": [],
   "source": [
    "# plot the result\n",
    "\n",
    "plt.figure(figsize=(8,10))\n",
    "\n",
    "plt.subplot(311)\n",
    "plt.title(\"result of GaussianMixtureModel clustering method\")\n",
    "plt.plot(n_cluster_list, gmm_silhouette_score, \"r-\", label = \"silhouette score\")\n",
    "plt.xlabel(\"number of clusters\")\n",
    "plt.ylabel(\"silhouette score (closer to 1, better)\")\n",
    "plt.grid(True)\n",
    "\n",
    "plt.subplot(312)\n",
    "plt.plot(n_cluster_list, gmm_davies_score, \"g-\", label = \"davies_bouldin_score\")\n",
    "plt.xlabel(\"number of clusters\")\n",
    "plt.ylabel(\"davies bouldin score (smaller, better)\")\n",
    "plt.grid(True)\n",
    "\n",
    "plt.subplot(313)\n",
    "plt.plot(n_cluster_list, gmm_calinski_score, \"b-\", label = \"calinski_harabasz_score\")\n",
    "plt.xlabel(\"number of clusters\")\n",
    "plt.ylabel(\"calinski score (larger, better)\")\n",
    "plt.grid(True)\n",
    "\n",
    "fig.tight_layout()\n",
    "plt.show()"
   ]
  },
  {
   "cell_type": "code",
   "execution_count": null,
   "metadata": {},
   "outputs": [],
   "source": [
    "n_cluster_gmm = np.argmin(gmm_davies_score[:50]) + 2\n",
    "n_cluster_gmm"
   ]
  },
  {
   "cell_type": "code",
   "execution_count": null,
   "metadata": {},
   "outputs": [],
   "source": [
    "# n_cluster_labels\n",
    "press_cluster_labels_gmm = pd.DataFrame(gmm_labels[20].reshape(1,-1), columns=junction_names, index=['pressure_cluster'])\n",
    "press_cluster_labels_gmm"
   ]
  },
  {
   "cell_type": "code",
   "execution_count": null,
   "metadata": {},
   "outputs": [],
   "source": [
    "# plot the result\n",
    "# plot_result(data, wn, n_cluster, n_junctions, n_cluster_labels, clustering_name, plot_individual=True):\n",
    "\n",
    "plot_result(X_pressure, ctown.wn, n_cluster_gmm, n_junctions, press_cluster_labels_gmm, \"GaussianMixtureModel clustering\", plot_individual=False)"
   ]
  },
  {
   "cell_type": "code",
   "execution_count": null,
   "metadata": {},
   "outputs": [],
   "source": [
    "[n_cluster_fcm, n_cluster_wfcm, n_cluster_kmeans, n_cluster_agg, n_cluster_agg_with_connec_matrix, n_cluster_dbscan_1, n_cluster_dbscan_2, n_cluster_gmm]"
   ]
  },
  {
   "cell_type": "markdown",
   "metadata": {},
   "source": [
    "# Comparision of Result among different Methods"
   ]
  },
  {
   "cell_type": "code",
   "execution_count": null,
   "metadata": {},
   "outputs": [],
   "source": [
    "# n_cluster of different clustering algorithm\n",
    "\n",
    "n_best_cluster_algorithm = np.array([[n_cluster_fcm, n_cluster_wfcm, n_cluster_kmeans, n_cluster_agg, n_cluster_agg_with_connec_matrix, n_cluster_dbscan_1, n_cluster_dbscan_2, n_cluster_gmm],\n",
    "                                    [FCM_silhouette_score[22], weighted_FCM_silhouette_score[22], kmeans_silhouette_score[28], agg_silhouette_score[22], agg_silhouette_score_with_connectivity_matrix[20], dbscan_silhouette[13], \n",
    "                                                                                                   dbscan_silhouette[14], gmm_silhouette_score[20]],\n",
    "                                    \n",
    "                                    [FCM_davies_score[22], weighted_FCM_davies_score[22], kmeans_davies_score[28], agg_davies_score[22], agg_davies_score_with_connectivity_matrix[20], dbscan_davies[13], \n",
    "                                                                                                   dbscan_davies[14], gmm_davies_score[20]],\n",
    "                                    \n",
    "                                    [FCM_calinski_score[22], weighted_FCM_calinski_score[22], kmeans_calinski_score[28], agg_calinski_score[22], agg_calinski_score_with_connectivity_matrix[20], dbscan_calinski[13], \n",
    "                                                                                                   dbscan_calinski[14], gmm_calinski_score[20]]\n",
    "                                    \n",
    "                                    ])\n",
    "\n",
    "clustering_name = [\"fcm\", \"wfcm\", \"kmeans\", \"agg\", \"agg_with_conect_matrix\", \"dbscan_(0.15 2)\", \"dbscan_(0.15 3)\", \"gmm\"]\n",
    "\n",
    "n_cluster_dataframe = pd.DataFrame(n_best_cluster_algorithm, columns=clustering_name, index=[\"n_cluster\", \"silhouette score\", \"davies score\", \"calinski score\"])"
   ]
  },
  {
   "cell_type": "code",
   "execution_count": null,
   "metadata": {},
   "outputs": [],
   "source": [
    "n_cluster_dataframe"
   ]
  },
  {
   "cell_type": "code",
   "execution_count": null,
   "metadata": {},
   "outputs": [],
   "source": []
  }
 ],
 "metadata": {
  "kernelspec": {
   "display_name": "Python 3",
   "language": "python",
   "name": "python3"
  },
  "language_info": {
   "codemirror_mode": {
    "name": "ipython",
    "version": 3
   },
   "file_extension": ".py",
   "mimetype": "text/x-python",
   "name": "python",
   "nbconvert_exporter": "python",
   "pygments_lexer": "ipython3",
   "version": "3.7.4"
  }
 },
 "nbformat": 4,
 "nbformat_minor": 2
}
